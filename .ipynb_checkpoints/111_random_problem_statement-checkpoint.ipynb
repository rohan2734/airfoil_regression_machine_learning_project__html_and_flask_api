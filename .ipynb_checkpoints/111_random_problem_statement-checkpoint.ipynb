{
 "cells": [
  {
   "cell_type": "code",
   "execution_count": 1,
   "id": "90e9c737",
   "metadata": {},
   "outputs": [],
   "source": [
    "import pandas as pd\n",
    "%matplotlib inline"
   ]
  },
  {
   "cell_type": "code",
   "execution_count": 2,
   "id": "24519424",
   "metadata": {},
   "outputs": [],
   "source": [
    "# airfoil_self_noise.dat is in tab seperated format\n",
    "\n",
    "# https://archive.ics.uci.edu/ml/datasets/airfoil+self-noise#"
   ]
  },
  {
   "cell_type": "code",
   "execution_count": 3,
   "id": "1b652f30",
   "metadata": {
    "scrolled": true
   },
   "outputs": [],
   "source": [
    "# pd.read_csv('airfoil_self_noise.dat',sep='\\t')"
   ]
  },
  {
   "cell_type": "code",
   "execution_count": 4,
   "id": "010c856c",
   "metadata": {},
   "outputs": [
    {
     "data": {
      "text/html": [
       "<div>\n",
       "<style scoped>\n",
       "    .dataframe tbody tr th:only-of-type {\n",
       "        vertical-align: middle;\n",
       "    }\n",
       "\n",
       "    .dataframe tbody tr th {\n",
       "        vertical-align: top;\n",
       "    }\n",
       "\n",
       "    .dataframe thead th {\n",
       "        text-align: right;\n",
       "    }\n",
       "</style>\n",
       "<table border=\"1\" class=\"dataframe\">\n",
       "  <thead>\n",
       "    <tr style=\"text-align: right;\">\n",
       "      <th></th>\n",
       "      <th>0</th>\n",
       "      <th>1</th>\n",
       "      <th>2</th>\n",
       "      <th>3</th>\n",
       "      <th>4</th>\n",
       "      <th>5</th>\n",
       "    </tr>\n",
       "  </thead>\n",
       "  <tbody>\n",
       "    <tr>\n",
       "      <th>0</th>\n",
       "      <td>800</td>\n",
       "      <td>0.0</td>\n",
       "      <td>0.3048</td>\n",
       "      <td>71.3</td>\n",
       "      <td>0.002663</td>\n",
       "      <td>126.201</td>\n",
       "    </tr>\n",
       "    <tr>\n",
       "      <th>1</th>\n",
       "      <td>1000</td>\n",
       "      <td>0.0</td>\n",
       "      <td>0.3048</td>\n",
       "      <td>71.3</td>\n",
       "      <td>0.002663</td>\n",
       "      <td>125.201</td>\n",
       "    </tr>\n",
       "    <tr>\n",
       "      <th>2</th>\n",
       "      <td>1250</td>\n",
       "      <td>0.0</td>\n",
       "      <td>0.3048</td>\n",
       "      <td>71.3</td>\n",
       "      <td>0.002663</td>\n",
       "      <td>125.951</td>\n",
       "    </tr>\n",
       "    <tr>\n",
       "      <th>3</th>\n",
       "      <td>1600</td>\n",
       "      <td>0.0</td>\n",
       "      <td>0.3048</td>\n",
       "      <td>71.3</td>\n",
       "      <td>0.002663</td>\n",
       "      <td>127.591</td>\n",
       "    </tr>\n",
       "    <tr>\n",
       "      <th>4</th>\n",
       "      <td>2000</td>\n",
       "      <td>0.0</td>\n",
       "      <td>0.3048</td>\n",
       "      <td>71.3</td>\n",
       "      <td>0.002663</td>\n",
       "      <td>127.461</td>\n",
       "    </tr>\n",
       "  </tbody>\n",
       "</table>\n",
       "</div>"
      ],
      "text/plain": [
       "      0    1       2     3         4        5\n",
       "0   800  0.0  0.3048  71.3  0.002663  126.201\n",
       "1  1000  0.0  0.3048  71.3  0.002663  125.201\n",
       "2  1250  0.0  0.3048  71.3  0.002663  125.951\n",
       "3  1600  0.0  0.3048  71.3  0.002663  127.591\n",
       "4  2000  0.0  0.3048  71.3  0.002663  127.461"
      ]
     },
     "execution_count": 4,
     "metadata": {},
     "output_type": "execute_result"
    }
   ],
   "source": [
    "df=pd.read_csv('airfoil_self_noise.dat',sep='\\t',header=None)\n",
    "df.head()\n",
    "# search, how to make first row not as a header in pandas"
   ]
  },
  {
   "cell_type": "code",
   "execution_count": 5,
   "id": "1be2de75",
   "metadata": {},
   "outputs": [],
   "source": [
    "# pd.read_csv('airfoil_self_noise.dat',sep='\\t',names=['Frequency','Angle of attack','Chord Length','Free Stream Velocity','Suction side','Scaled Sound Pressure Level'])"
   ]
  },
  {
   "cell_type": "markdown",
   "id": "5272f020",
   "metadata": {},
   "source": [
    "## dataset\n",
    "- This problem has the following inputs:\n",
    "- 1. Frequency, in Hertzs.\n",
    "- 2. Angle of attack, in degrees.\n",
    "- 3. Chord length, in meters.\n",
    "- 4. Free-stream velocity, in meters per second.\n",
    "- 5. Suction side displacement thickness, in meters.\n",
    "\n",
    "The only output is:\n",
    "- 6. Scaled sound pressure level, in decibels."
   ]
  },
  {
   "cell_type": "code",
   "execution_count": 6,
   "id": "f72963c4",
   "metadata": {},
   "outputs": [],
   "source": [
    "## this is a regression problem\n",
    "## we are trying to predict the output with input features"
   ]
  },
  {
   "cell_type": "code",
   "execution_count": 7,
   "id": "19e35a24",
   "metadata": {},
   "outputs": [
    {
     "data": {
      "text/html": [
       "<div>\n",
       "<style scoped>\n",
       "    .dataframe tbody tr th:only-of-type {\n",
       "        vertical-align: middle;\n",
       "    }\n",
       "\n",
       "    .dataframe tbody tr th {\n",
       "        vertical-align: top;\n",
       "    }\n",
       "\n",
       "    .dataframe thead th {\n",
       "        text-align: right;\n",
       "    }\n",
       "</style>\n",
       "<table border=\"1\" class=\"dataframe\">\n",
       "  <thead>\n",
       "    <tr style=\"text-align: right;\">\n",
       "      <th></th>\n",
       "      <th>Frequency</th>\n",
       "      <th>Angle of Attack</th>\n",
       "      <th>Chord Length</th>\n",
       "      <th>Free-stream Velocity</th>\n",
       "      <th>Suction side</th>\n",
       "      <th>Pressure Level</th>\n",
       "    </tr>\n",
       "  </thead>\n",
       "  <tbody>\n",
       "    <tr>\n",
       "      <th>0</th>\n",
       "      <td>800</td>\n",
       "      <td>0.0</td>\n",
       "      <td>0.3048</td>\n",
       "      <td>71.3</td>\n",
       "      <td>0.002663</td>\n",
       "      <td>126.201</td>\n",
       "    </tr>\n",
       "    <tr>\n",
       "      <th>1</th>\n",
       "      <td>1000</td>\n",
       "      <td>0.0</td>\n",
       "      <td>0.3048</td>\n",
       "      <td>71.3</td>\n",
       "      <td>0.002663</td>\n",
       "      <td>125.201</td>\n",
       "    </tr>\n",
       "    <tr>\n",
       "      <th>2</th>\n",
       "      <td>1250</td>\n",
       "      <td>0.0</td>\n",
       "      <td>0.3048</td>\n",
       "      <td>71.3</td>\n",
       "      <td>0.002663</td>\n",
       "      <td>125.951</td>\n",
       "    </tr>\n",
       "    <tr>\n",
       "      <th>3</th>\n",
       "      <td>1600</td>\n",
       "      <td>0.0</td>\n",
       "      <td>0.3048</td>\n",
       "      <td>71.3</td>\n",
       "      <td>0.002663</td>\n",
       "      <td>127.591</td>\n",
       "    </tr>\n",
       "    <tr>\n",
       "      <th>4</th>\n",
       "      <td>2000</td>\n",
       "      <td>0.0</td>\n",
       "      <td>0.3048</td>\n",
       "      <td>71.3</td>\n",
       "      <td>0.002663</td>\n",
       "      <td>127.461</td>\n",
       "    </tr>\n",
       "  </tbody>\n",
       "</table>\n",
       "</div>"
      ],
      "text/plain": [
       "   Frequency  Angle of Attack  Chord Length  Free-stream Velocity  \\\n",
       "0        800              0.0        0.3048                  71.3   \n",
       "1       1000              0.0        0.3048                  71.3   \n",
       "2       1250              0.0        0.3048                  71.3   \n",
       "3       1600              0.0        0.3048                  71.3   \n",
       "4       2000              0.0        0.3048                  71.3   \n",
       "\n",
       "   Suction side  Pressure Level  \n",
       "0      0.002663         126.201  \n",
       "1      0.002663         125.201  \n",
       "2      0.002663         125.951  \n",
       "3      0.002663         127.591  \n",
       "4      0.002663         127.461  "
      ]
     },
     "execution_count": 7,
     "metadata": {},
     "output_type": "execute_result"
    }
   ],
   "source": [
    "df.columns=[\"Frequency\",\"Angle of Attack\",\"Chord Length\",\"Free-stream Velocity\",\"Suction side\",\"Pressure Level\"]\n",
    "df.head()"
   ]
  },
  {
   "cell_type": "code",
   "execution_count": 8,
   "id": "fe8dbd2e",
   "metadata": {},
   "outputs": [
    {
     "data": {
      "text/plain": [
       "Frequency               0\n",
       "Angle of Attack         0\n",
       "Chord Length            0\n",
       "Free-stream Velocity    0\n",
       "Suction side            0\n",
       "Pressure Level          0\n",
       "dtype: int64"
      ]
     },
     "execution_count": 8,
     "metadata": {},
     "output_type": "execute_result"
    }
   ],
   "source": [
    "df.isnull().sum()\n",
    "# if there are categorical variables, we can do one hot encoding, labeling "
   ]
  },
  {
   "cell_type": "code",
   "execution_count": 9,
   "id": "06840cd6",
   "metadata": {},
   "outputs": [],
   "source": [
    "X=df.iloc[:,:-1]\n",
    "y=df.iloc[:,-1]"
   ]
  },
  {
   "cell_type": "code",
   "execution_count": 10,
   "id": "6513586c",
   "metadata": {},
   "outputs": [
    {
     "data": {
      "text/html": [
       "<div>\n",
       "<style scoped>\n",
       "    .dataframe tbody tr th:only-of-type {\n",
       "        vertical-align: middle;\n",
       "    }\n",
       "\n",
       "    .dataframe tbody tr th {\n",
       "        vertical-align: top;\n",
       "    }\n",
       "\n",
       "    .dataframe thead th {\n",
       "        text-align: right;\n",
       "    }\n",
       "</style>\n",
       "<table border=\"1\" class=\"dataframe\">\n",
       "  <thead>\n",
       "    <tr style=\"text-align: right;\">\n",
       "      <th></th>\n",
       "      <th>Frequency</th>\n",
       "      <th>Angle of Attack</th>\n",
       "      <th>Chord Length</th>\n",
       "      <th>Free-stream Velocity</th>\n",
       "      <th>Suction side</th>\n",
       "    </tr>\n",
       "  </thead>\n",
       "  <tbody>\n",
       "    <tr>\n",
       "      <th>0</th>\n",
       "      <td>800</td>\n",
       "      <td>0.0</td>\n",
       "      <td>0.3048</td>\n",
       "      <td>71.3</td>\n",
       "      <td>0.002663</td>\n",
       "    </tr>\n",
       "    <tr>\n",
       "      <th>1</th>\n",
       "      <td>1000</td>\n",
       "      <td>0.0</td>\n",
       "      <td>0.3048</td>\n",
       "      <td>71.3</td>\n",
       "      <td>0.002663</td>\n",
       "    </tr>\n",
       "    <tr>\n",
       "      <th>2</th>\n",
       "      <td>1250</td>\n",
       "      <td>0.0</td>\n",
       "      <td>0.3048</td>\n",
       "      <td>71.3</td>\n",
       "      <td>0.002663</td>\n",
       "    </tr>\n",
       "    <tr>\n",
       "      <th>3</th>\n",
       "      <td>1600</td>\n",
       "      <td>0.0</td>\n",
       "      <td>0.3048</td>\n",
       "      <td>71.3</td>\n",
       "      <td>0.002663</td>\n",
       "    </tr>\n",
       "    <tr>\n",
       "      <th>4</th>\n",
       "      <td>2000</td>\n",
       "      <td>0.0</td>\n",
       "      <td>0.3048</td>\n",
       "      <td>71.3</td>\n",
       "      <td>0.002663</td>\n",
       "    </tr>\n",
       "    <tr>\n",
       "      <th>...</th>\n",
       "      <td>...</td>\n",
       "      <td>...</td>\n",
       "      <td>...</td>\n",
       "      <td>...</td>\n",
       "      <td>...</td>\n",
       "    </tr>\n",
       "    <tr>\n",
       "      <th>1498</th>\n",
       "      <td>2500</td>\n",
       "      <td>15.6</td>\n",
       "      <td>0.1016</td>\n",
       "      <td>39.6</td>\n",
       "      <td>0.052849</td>\n",
       "    </tr>\n",
       "    <tr>\n",
       "      <th>1499</th>\n",
       "      <td>3150</td>\n",
       "      <td>15.6</td>\n",
       "      <td>0.1016</td>\n",
       "      <td>39.6</td>\n",
       "      <td>0.052849</td>\n",
       "    </tr>\n",
       "    <tr>\n",
       "      <th>1500</th>\n",
       "      <td>4000</td>\n",
       "      <td>15.6</td>\n",
       "      <td>0.1016</td>\n",
       "      <td>39.6</td>\n",
       "      <td>0.052849</td>\n",
       "    </tr>\n",
       "    <tr>\n",
       "      <th>1501</th>\n",
       "      <td>5000</td>\n",
       "      <td>15.6</td>\n",
       "      <td>0.1016</td>\n",
       "      <td>39.6</td>\n",
       "      <td>0.052849</td>\n",
       "    </tr>\n",
       "    <tr>\n",
       "      <th>1502</th>\n",
       "      <td>6300</td>\n",
       "      <td>15.6</td>\n",
       "      <td>0.1016</td>\n",
       "      <td>39.6</td>\n",
       "      <td>0.052849</td>\n",
       "    </tr>\n",
       "  </tbody>\n",
       "</table>\n",
       "<p>1503 rows × 5 columns</p>\n",
       "</div>"
      ],
      "text/plain": [
       "      Frequency  Angle of Attack  Chord Length  Free-stream Velocity  \\\n",
       "0           800              0.0        0.3048                  71.3   \n",
       "1          1000              0.0        0.3048                  71.3   \n",
       "2          1250              0.0        0.3048                  71.3   \n",
       "3          1600              0.0        0.3048                  71.3   \n",
       "4          2000              0.0        0.3048                  71.3   \n",
       "...         ...              ...           ...                   ...   \n",
       "1498       2500             15.6        0.1016                  39.6   \n",
       "1499       3150             15.6        0.1016                  39.6   \n",
       "1500       4000             15.6        0.1016                  39.6   \n",
       "1501       5000             15.6        0.1016                  39.6   \n",
       "1502       6300             15.6        0.1016                  39.6   \n",
       "\n",
       "      Suction side  \n",
       "0         0.002663  \n",
       "1         0.002663  \n",
       "2         0.002663  \n",
       "3         0.002663  \n",
       "4         0.002663  \n",
       "...            ...  \n",
       "1498      0.052849  \n",
       "1499      0.052849  \n",
       "1500      0.052849  \n",
       "1501      0.052849  \n",
       "1502      0.052849  \n",
       "\n",
       "[1503 rows x 5 columns]"
      ]
     },
     "execution_count": 10,
     "metadata": {},
     "output_type": "execute_result"
    }
   ],
   "source": [
    "X"
   ]
  },
  {
   "cell_type": "code",
   "execution_count": 11,
   "id": "4beaacfd",
   "metadata": {},
   "outputs": [],
   "source": [
    "from sklearn.model_selection import train_test_split\n",
    "\n",
    "X_train,X_test,y_train,y_test=train_test_split(X,y,test_size=0.33,random_state=42)"
   ]
  },
  {
   "cell_type": "code",
   "execution_count": 12,
   "id": "c7ae1394",
   "metadata": {},
   "outputs": [],
   "source": [
    "## correlation\n",
    "\n",
    "### before doing correlation,do train test split , because we do correlation on train data"
   ]
  },
  {
   "cell_type": "code",
   "execution_count": 13,
   "id": "86eae8be",
   "metadata": {},
   "outputs": [
    {
     "data": {
      "text/html": [
       "<div>\n",
       "<style scoped>\n",
       "    .dataframe tbody tr th:only-of-type {\n",
       "        vertical-align: middle;\n",
       "    }\n",
       "\n",
       "    .dataframe tbody tr th {\n",
       "        vertical-align: top;\n",
       "    }\n",
       "\n",
       "    .dataframe thead th {\n",
       "        text-align: right;\n",
       "    }\n",
       "</style>\n",
       "<table border=\"1\" class=\"dataframe\">\n",
       "  <thead>\n",
       "    <tr style=\"text-align: right;\">\n",
       "      <th></th>\n",
       "      <th>Frequency</th>\n",
       "      <th>Angle of Attack</th>\n",
       "      <th>Chord Length</th>\n",
       "      <th>Free-stream Velocity</th>\n",
       "      <th>Suction side</th>\n",
       "    </tr>\n",
       "  </thead>\n",
       "  <tbody>\n",
       "    <tr>\n",
       "      <th>845</th>\n",
       "      <td>500</td>\n",
       "      <td>11.2</td>\n",
       "      <td>0.0508</td>\n",
       "      <td>71.3</td>\n",
       "      <td>0.014072</td>\n",
       "    </tr>\n",
       "    <tr>\n",
       "      <th>1026</th>\n",
       "      <td>10000</td>\n",
       "      <td>4.8</td>\n",
       "      <td>0.0254</td>\n",
       "      <td>55.5</td>\n",
       "      <td>0.000873</td>\n",
       "    </tr>\n",
       "    <tr>\n",
       "      <th>621</th>\n",
       "      <td>2000</td>\n",
       "      <td>7.2</td>\n",
       "      <td>0.1524</td>\n",
       "      <td>39.6</td>\n",
       "      <td>0.009092</td>\n",
       "    </tr>\n",
       "    <tr>\n",
       "      <th>1371</th>\n",
       "      <td>630</td>\n",
       "      <td>6.7</td>\n",
       "      <td>0.1016</td>\n",
       "      <td>31.7</td>\n",
       "      <td>0.005929</td>\n",
       "    </tr>\n",
       "    <tr>\n",
       "      <th>195</th>\n",
       "      <td>6300</td>\n",
       "      <td>0.0</td>\n",
       "      <td>0.2286</td>\n",
       "      <td>71.3</td>\n",
       "      <td>0.002143</td>\n",
       "    </tr>\n",
       "  </tbody>\n",
       "</table>\n",
       "</div>"
      ],
      "text/plain": [
       "      Frequency  Angle of Attack  Chord Length  Free-stream Velocity  \\\n",
       "845         500             11.2        0.0508                  71.3   \n",
       "1026      10000              4.8        0.0254                  55.5   \n",
       "621        2000              7.2        0.1524                  39.6   \n",
       "1371        630              6.7        0.1016                  31.7   \n",
       "195        6300              0.0        0.2286                  71.3   \n",
       "\n",
       "      Suction side  \n",
       "845       0.014072  \n",
       "1026      0.000873  \n",
       "621       0.009092  \n",
       "1371      0.005929  \n",
       "195       0.002143  "
      ]
     },
     "execution_count": 13,
     "metadata": {},
     "output_type": "execute_result"
    }
   ],
   "source": [
    "X_train.head()"
   ]
  },
  {
   "cell_type": "code",
   "execution_count": 14,
   "id": "0ee09202",
   "metadata": {},
   "outputs": [
    {
     "data": {
      "text/plain": [
       "<seaborn.axisgrid.PairGrid at 0x28c445ccee0>"
      ]
     },
     "execution_count": 14,
     "metadata": {},
     "output_type": "execute_result"
    },
    {
     "data": {
      "image/png": "[encoded data removed]",
      "text/plain": [
       "<Figure size 1250x1250 with 30 Axes>"
      ]
     },
     "metadata": {},
     "output_type": "display_data"
    }
   ],
   "source": [
    "# now we have to do EDA\n",
    "\n",
    "import seaborn as sns\n",
    "\n",
    "sns.pairplot(X_train)\n",
    "# we are using pairplot to see the correlation between each column combination"
   ]
  },
  {
   "cell_type": "code",
   "execution_count": 15,
   "id": "63ba36d6",
   "metadata": {},
   "outputs": [
    {
     "data": {
      "text/html": [
       "<div>\n",
       "<style scoped>\n",
       "    .dataframe tbody tr th:only-of-type {\n",
       "        vertical-align: middle;\n",
       "    }\n",
       "\n",
       "    .dataframe tbody tr th {\n",
       "        vertical-align: top;\n",
       "    }\n",
       "\n",
       "    .dataframe thead th {\n",
       "        text-align: right;\n",
       "    }\n",
       "</style>\n",
       "<table border=\"1\" class=\"dataframe\">\n",
       "  <thead>\n",
       "    <tr style=\"text-align: right;\">\n",
       "      <th></th>\n",
       "      <th>Frequency</th>\n",
       "      <th>Angle of Attack</th>\n",
       "      <th>Chord Length</th>\n",
       "      <th>Free-stream Velocity</th>\n",
       "      <th>Suction side</th>\n",
       "    </tr>\n",
       "  </thead>\n",
       "  <tbody>\n",
       "    <tr>\n",
       "      <th>Frequency</th>\n",
       "      <td>1.000000</td>\n",
       "      <td>-0.273327</td>\n",
       "      <td>-0.000324</td>\n",
       "      <td>0.125247</td>\n",
       "      <td>-0.239878</td>\n",
       "    </tr>\n",
       "    <tr>\n",
       "      <th>Angle of Attack</th>\n",
       "      <td>-0.273327</td>\n",
       "      <td>1.000000</td>\n",
       "      <td>-0.498257</td>\n",
       "      <td>0.058603</td>\n",
       "      <td>0.762567</td>\n",
       "    </tr>\n",
       "    <tr>\n",
       "      <th>Chord Length</th>\n",
       "      <td>-0.000324</td>\n",
       "      <td>-0.498257</td>\n",
       "      <td>1.000000</td>\n",
       "      <td>0.013061</td>\n",
       "      <td>-0.220849</td>\n",
       "    </tr>\n",
       "    <tr>\n",
       "      <th>Free-stream Velocity</th>\n",
       "      <td>0.125247</td>\n",
       "      <td>0.058603</td>\n",
       "      <td>0.013061</td>\n",
       "      <td>1.000000</td>\n",
       "      <td>-0.000519</td>\n",
       "    </tr>\n",
       "    <tr>\n",
       "      <th>Suction side</th>\n",
       "      <td>-0.239878</td>\n",
       "      <td>0.762567</td>\n",
       "      <td>-0.220849</td>\n",
       "      <td>-0.000519</td>\n",
       "      <td>1.000000</td>\n",
       "    </tr>\n",
       "  </tbody>\n",
       "</table>\n",
       "</div>"
      ],
      "text/plain": [
       "                      Frequency  Angle of Attack  Chord Length  \\\n",
       "Frequency              1.000000        -0.273327     -0.000324   \n",
       "Angle of Attack       -0.273327         1.000000     -0.498257   \n",
       "Chord Length          -0.000324        -0.498257      1.000000   \n",
       "Free-stream Velocity   0.125247         0.058603      0.013061   \n",
       "Suction side          -0.239878         0.762567     -0.220849   \n",
       "\n",
       "                      Free-stream Velocity  Suction side  \n",
       "Frequency                         0.125247     -0.239878  \n",
       "Angle of Attack                   0.058603      0.762567  \n",
       "Chord Length                      0.013061     -0.220849  \n",
       "Free-stream Velocity              1.000000     -0.000519  \n",
       "Suction side                     -0.000519      1.000000  "
      ]
     },
     "execution_count": 15,
     "metadata": {},
     "output_type": "execute_result"
    }
   ],
   "source": [
    "## Correlation\n",
    "import matplotlib.pyplot as plt\n",
    "X_train.corr()"
   ]
  },
  {
   "cell_type": "code",
   "execution_count": 16,
   "id": "09097f30",
   "metadata": {},
   "outputs": [],
   "source": [
    "## pandas profiling - it will give the EDA report"
   ]
  },
  {
   "cell_type": "code",
   "execution_count": 17,
   "id": "d905badd",
   "metadata": {},
   "outputs": [
    {
     "name": "stderr",
     "output_type": "stream",
     "text": [
      "C:\\Users\\HP\\anaconda3\\lib\\site-packages\\seaborn\\_decorators.py:36: FutureWarning: Pass the following variable as a keyword arg: x. From version 0.12, the only valid positional argument will be `data`, and passing other arguments without an explicit keyword will result in an error or misinterpretation.\n",
      "  warnings.warn(\n"
     ]
    },
    {
     "data": {
      "text/plain": [
       "<AxesSubplot:xlabel='Frequency'>"
      ]
     },
     "execution_count": 17,
     "metadata": {},
     "output_type": "execute_result"
    },
    {
     "data": {
      "image/png": "[encoded data removed]",
      "text/plain": [
       "<Figure size 640x480 with 1 Axes>"
      ]
     },
     "metadata": {},
     "output_type": "display_data"
    }
   ],
   "source": [
    "sns.boxplot(X_train['Frequency'])\n",
    "# plt.show()"
   ]
  },
  {
   "cell_type": "code",
   "execution_count": 18,
   "id": "2499815d",
   "metadata": {},
   "outputs": [
    {
     "name": "stderr",
     "output_type": "stream",
     "text": [
      "C:\\Users\\HP\\anaconda3\\lib\\site-packages\\seaborn\\_decorators.py:36: FutureWarning: Pass the following variables as keyword args: x, y. From version 0.12, the only valid positional argument will be `data`, and passing other arguments without an explicit keyword will result in an error or misinterpretation.\n",
      "  warnings.warn(\n"
     ]
    },
    {
     "data": {
      "text/plain": [
       "<AxesSubplot:xlabel='Frequency', ylabel='Pressure Level'>"
      ]
     },
     "execution_count": 18,
     "metadata": {},
     "output_type": "execute_result"
    },
    {
     "data": {
      "image/png": "[encoded data removed]",
      "text/plain": [
       "<Figure size 640x480 with 1 Axes>"
      ]
     },
     "metadata": {},
     "output_type": "display_data"
    }
   ],
   "source": [
    "## relationship between frequency and pressure length\n",
    "sns.scatterplot(X_train['Frequency'],y_train)\n"
   ]
  },
  {
   "cell_type": "code",
   "execution_count": 19,
   "id": "8760b017",
   "metadata": {},
   "outputs": [
    {
     "data": {
      "text/plain": [
       "1456"
      ]
     },
     "execution_count": 19,
     "metadata": {},
     "output_type": "execute_result"
    }
   ],
   "source": [
    "len(df['Pressure Level'].unique())"
   ]
  },
  {
   "cell_type": "code",
   "execution_count": 20,
   "id": "d4a6d32b",
   "metadata": {},
   "outputs": [],
   "source": [
    "## we can see that there are many categories, so it is a regression problem\n",
    "## if there are 20-30 categories, then we can take this as classification problem"
   ]
  },
  {
   "cell_type": "code",
   "execution_count": 21,
   "id": "0d18ecae",
   "metadata": {},
   "outputs": [
    {
     "name": "stderr",
     "output_type": "stream",
     "text": [
      "C:\\Users\\HP\\anaconda3\\lib\\site-packages\\seaborn\\_decorators.py:36: FutureWarning: Pass the following variable as a keyword arg: x. From version 0.12, the only valid positional argument will be `data`, and passing other arguments without an explicit keyword will result in an error or misinterpretation.\n",
      "  warnings.warn(\n"
     ]
    },
    {
     "data": {
      "text/plain": [
       "<AxesSubplot:xlabel='Pressure Level'>"
      ]
     },
     "execution_count": 21,
     "metadata": {},
     "output_type": "execute_result"
    },
    {
     "data": {
      "image/png": "[encoded data removed]",
      "text/plain": [
       "<Figure size 640x480 with 1 Axes>"
      ]
     },
     "metadata": {},
     "output_type": "display_data"
    }
   ],
   "source": [
    "sns.boxplot(df['Pressure Level'])"
   ]
  },
  {
   "cell_type": "code",
   "execution_count": 22,
   "id": "a4369a3e",
   "metadata": {},
   "outputs": [],
   "source": [
    "## we are applying regression \n",
    "## we can apply , lasso,ridge,svr , random forest regressor"
   ]
  },
  {
   "cell_type": "markdown",
   "id": "70838fc8",
   "metadata": {},
   "source": [
    "## Linear Regression"
   ]
  },
  {
   "cell_type": "code",
   "execution_count": 23,
   "id": "4266b1d6",
   "metadata": {},
   "outputs": [],
   "source": [
    "from sklearn.linear_model import LinearRegression\n",
    "linearRegressor=LinearRegression()"
   ]
  },
  {
   "cell_type": "code",
   "execution_count": 24,
   "id": "a43114d4",
   "metadata": {},
   "outputs": [],
   "source": [
    "from sklearn.model_selection import cross_val_score\n",
    "\n",
    "mse = cross_val_score(linearRegressor,X,y,scoring='neg_mean_squared_error',cv=5)"
   ]
  },
  {
   "cell_type": "code",
   "execution_count": 25,
   "id": "277ef428",
   "metadata": {},
   "outputs": [
    {
     "data": {
      "text/plain": [
       "array([ -9.21171285, -20.46007637, -23.09732057, -56.98314764,\n",
       "       -26.19085928])"
      ]
     },
     "execution_count": 25,
     "metadata": {},
     "output_type": "execute_result"
    }
   ],
   "source": [
    "mse"
   ]
  },
  {
   "cell_type": "code",
   "execution_count": 26,
   "id": "db7662e0",
   "metadata": {},
   "outputs": [
    {
     "data": {
      "text/plain": [
       "-27.188623343053365"
      ]
     },
     "execution_count": 26,
     "metadata": {},
     "output_type": "execute_result"
    }
   ],
   "source": [
    "mse.mean()"
   ]
  },
  {
   "cell_type": "code",
   "execution_count": 27,
   "id": "5481b986",
   "metadata": {},
   "outputs": [
    {
     "data": {
      "text/plain": [
       "15.961770732351766"
      ]
     },
     "execution_count": 27,
     "metadata": {},
     "output_type": "execute_result"
    }
   ],
   "source": [
    "mse.std()"
   ]
  },
  {
   "cell_type": "markdown",
   "id": "9a1d493b",
   "metadata": {},
   "source": [
    "## Ridge Regression"
   ]
  },
  {
   "cell_type": "code",
   "execution_count": 28,
   "id": "5ef28dc8",
   "metadata": {},
   "outputs": [],
   "source": [
    "from sklearn.linear_model import Ridge"
   ]
  },
  {
   "cell_type": "code",
   "execution_count": 29,
   "id": "25685d6a",
   "metadata": {},
   "outputs": [
    {
     "data": {
      "text/plain": [
       "Ridge()"
      ]
     },
     "execution_count": 29,
     "metadata": {},
     "output_type": "execute_result"
    }
   ],
   "source": [
    "ridgeRegressor=Ridge()\n",
    "ridgeRegressor"
   ]
  },
  {
   "cell_type": "code",
   "execution_count": 30,
   "id": "3e5daf62",
   "metadata": {},
   "outputs": [],
   "source": [
    "params={'alpha':[1e-5,1e-3,1e-1,1,2,3,4,6,8,10,20,50]}"
   ]
  },
  {
   "cell_type": "code",
   "execution_count": 31,
   "id": "f1bcacc7",
   "metadata": {},
   "outputs": [],
   "source": [
    "from sklearn.model_selection import GridSearchCV"
   ]
  },
  {
   "cell_type": "code",
   "execution_count": 32,
   "id": "03b231e6",
   "metadata": {},
   "outputs": [],
   "source": [
    "gcv=GridSearchCV(ridgeRegressor,param_grid=params,scoring='neg_mean_squared_error',cv=5)"
   ]
  },
  {
   "cell_type": "code",
   "execution_count": 33,
   "id": "d635f353",
   "metadata": {},
   "outputs": [
    {
     "data": {
      "text/plain": [
       "GridSearchCV(cv=5, estimator=Ridge(),\n",
       "             param_grid={'alpha': [1e-05, 0.001, 0.1, 1, 2, 3, 4, 6, 8, 10, 20,\n",
       "                                   50]},\n",
       "             scoring='neg_mean_squared_error')"
      ]
     },
     "execution_count": 33,
     "metadata": {},
     "output_type": "execute_result"
    }
   ],
   "source": [
    "gcv.fit(X_train,y_train)"
   ]
  },
  {
   "cell_type": "code",
   "execution_count": 34,
   "id": "1526a27b",
   "metadata": {},
   "outputs": [
    {
     "data": {
      "text/plain": [
       "{'alpha': 0.001}"
      ]
     },
     "execution_count": 34,
     "metadata": {},
     "output_type": "execute_result"
    }
   ],
   "source": [
    "gcv.best_params_"
   ]
  },
  {
   "cell_type": "code",
   "execution_count": 35,
   "id": "8eb74df0",
   "metadata": {},
   "outputs": [
    {
     "data": {
      "text/plain": [
       "-23.602891271038246"
      ]
     },
     "execution_count": 35,
     "metadata": {},
     "output_type": "execute_result"
    }
   ],
   "source": [
    "gcv.best_score_"
   ]
  },
  {
   "cell_type": "code",
   "execution_count": 36,
   "id": "e90470fa",
   "metadata": {},
   "outputs": [
    {
     "data": {
      "text/plain": [
       "array([124.06705302, 119.63920446, 120.28762977, 129.62925752,\n",
       "       129.8225887 , 132.6018393 , 122.45073586, 126.73868902,\n",
       "       129.99013965, 125.93569491, 132.51575833, 113.7800042 ,\n",
       "       130.08706201, 132.49261021, 123.63380043, 114.15096106,\n",
       "       124.30501106, 126.6680201 , 129.24109048, 131.7816413 ,\n",
       "       125.78317937, 125.04280684, 116.4650276 , 129.87876771,\n",
       "       124.22882406, 124.68812156, 131.6001662 , 124.56008195,\n",
       "       115.80892184, 123.4364713 , 125.10999832, 123.92896899,\n",
       "       125.47556369, 118.60196068, 121.69359806, 130.95047543,\n",
       "       131.40264655, 128.28101724, 121.28393498, 118.0450114 ,\n",
       "       126.40363022, 128.85432561, 126.44682451, 123.47101942,\n",
       "       123.07427923, 130.12968005, 125.11716314, 120.01574536,\n",
       "       123.20444689, 132.81118589, 128.73199161, 117.78709555,\n",
       "       123.41928729, 122.58672894, 126.71457667, 120.42146802,\n",
       "       123.30010709, 128.68108876, 124.25835619, 123.2152441 ,\n",
       "       125.43922223, 131.09794315, 126.72641467, 131.35761401,\n",
       "       120.0275048 , 122.97217691, 126.49844431, 122.76463542,\n",
       "       130.08112386, 126.86698153, 129.04352711, 131.75054566,\n",
       "       126.43593066, 118.62467252, 132.55046556, 127.02621133,\n",
       "       123.57717071, 129.27356437, 131.51184577, 125.32637671,\n",
       "       122.70580675, 119.14611358, 125.15033324, 124.8971703 ,\n",
       "       122.44349148, 117.86683934, 111.82365034, 130.01689747,\n",
       "       119.34163323, 122.75081014, 119.27404484, 127.68381977,\n",
       "       123.21594853, 129.61135327, 117.61608406, 122.03254349,\n",
       "       116.57711521, 118.25378848, 131.12866152, 126.14227355,\n",
       "       128.33388827, 114.85662529, 125.62410689, 121.88641426,\n",
       "       124.51187102, 121.78395742, 117.37067112, 121.38880868,\n",
       "       128.06367868, 126.72335013, 121.94797353, 130.37060158,\n",
       "       123.58827721, 129.43175953, 123.30562058, 127.41434054,\n",
       "       120.70762321, 116.08301889, 126.76422913, 119.63498518,\n",
       "       124.63053352, 129.2516848 , 131.24369134, 125.38399347,\n",
       "       117.28895419, 125.02918964, 122.87572577, 121.29797781,\n",
       "       127.77410286, 113.67955635, 127.90301122, 128.2545917 ,\n",
       "       112.04800054, 120.74831455, 127.32044231, 122.64409055,\n",
       "       126.24591802, 118.1310527 , 124.1613423 , 127.93951394,\n",
       "       129.14437597, 127.99782328, 122.13530109, 129.06369509,\n",
       "       126.49136336, 126.19083413, 128.4030596 , 129.8643136 ,\n",
       "       131.27149952, 126.21912041, 125.48932085, 130.40207302,\n",
       "       117.89692559, 127.19636483, 122.21605581, 131.69922148,\n",
       "       125.26197462, 127.44655245, 130.69630694, 124.76830811,\n",
       "       126.36798557, 119.0286319 , 124.13112358, 123.12365865,\n",
       "       120.14512696, 123.64093843, 126.00892977, 122.18286643,\n",
       "       122.67268507, 126.4449904 , 125.55479657, 123.98617245,\n",
       "       125.91612711, 126.55961497, 121.82099403, 119.20198586,\n",
       "       123.47269799, 121.15664834, 123.35520627, 120.42992422,\n",
       "       130.27105374, 117.37808424, 115.6913573 , 127.32450141,\n",
       "       121.83204445, 124.89526235, 116.13197974, 130.32618467,\n",
       "       116.16515   , 121.97713085, 124.9189127 , 119.05992451,\n",
       "       118.12191023, 123.39612963, 127.81989268, 129.87981062,\n",
       "       123.09746834, 125.20082279, 127.87198536, 121.55728332,\n",
       "       122.30181627, 123.08841308, 127.57541464, 126.89221074,\n",
       "       121.83748821, 124.87936829, 123.83464387, 131.94062485,\n",
       "       127.38070943, 122.52296122, 125.12114916, 130.9130786 ,\n",
       "       116.54246179, 131.3447912 , 124.7667647 , 124.64708227,\n",
       "       126.67979637, 132.41116869, 128.42601787, 117.21603101,\n",
       "       134.60796518, 115.45614536, 125.64521091, 126.91923038,\n",
       "       122.09734913, 127.51656761, 127.33886268, 129.71112925,\n",
       "       125.08656552, 122.98300174, 126.32161348, 131.54228919,\n",
       "       121.36539332, 121.34530043, 120.79617892, 127.01974619,\n",
       "       131.72713461, 129.36966884, 126.04498931, 117.330585  ,\n",
       "       114.92819615, 131.72589247, 118.37300547, 122.54192223,\n",
       "       131.1351345 , 126.48081092, 125.68400581, 123.38586754,\n",
       "       120.85753591, 127.46710807, 117.34931808, 112.59550507,\n",
       "       109.72400891, 126.83766731, 132.18199442, 126.2127137 ,\n",
       "       123.2583321 , 116.89344955, 124.34150185, 121.11129591,\n",
       "       127.4478792 , 126.64936934, 125.27690648, 129.69680813,\n",
       "       128.52820438, 120.91033963, 130.85227467, 126.34608234,\n",
       "       127.74148607, 124.88657746, 128.21426044, 122.88598785,\n",
       "       122.02648591, 130.68834814, 124.41641319, 131.80147907,\n",
       "       133.94712196, 125.58187946, 126.48740956, 120.51897111,\n",
       "       125.99078094, 124.48431277, 127.19779116, 125.91501084,\n",
       "       134.2778435 , 126.29719004, 129.03038678, 121.19524037,\n",
       "       129.24659577, 124.20002964, 121.3123994 , 133.19053072,\n",
       "       125.73113355, 114.53073975, 122.520019  , 127.06527286,\n",
       "       129.15244004, 119.49853675, 131.91938127, 118.32536881,\n",
       "       130.09854478, 132.63296845, 130.31511402, 123.87261157,\n",
       "       129.23835828, 129.96808271, 119.90908223, 118.632052  ,\n",
       "       132.81864956, 131.54640818, 125.33185947, 130.89051526,\n",
       "       126.04644416, 123.09253602, 119.67417568, 130.9051584 ,\n",
       "       128.80439613, 124.06818991, 128.29465447, 124.1396727 ,\n",
       "       130.2231536 , 127.92325835, 128.02670939, 120.73859526,\n",
       "       130.73339785, 118.33872048, 125.64817724, 123.11597836,\n",
       "       118.39284718, 126.34156003, 125.76659981, 118.5901244 ,\n",
       "       131.44750013, 128.16711902, 124.59995453, 124.87089424,\n",
       "       132.0279298 , 126.54814292, 125.01313985, 126.34615031,\n",
       "       133.40728246, 123.15717727, 127.76671781, 127.68444305,\n",
       "       120.05082341, 128.01716021, 130.42779449, 126.00254038,\n",
       "       123.1073989 , 125.79440231, 124.88520858, 125.00366748,\n",
       "       129.55713472, 126.59366707, 133.11814157, 126.0494732 ,\n",
       "       130.25121596, 119.29759531, 124.80520254, 123.45228634,\n",
       "       120.50315607, 129.80388288, 120.29744586, 124.03998987,\n",
       "       123.67180513, 127.75503233, 122.62065488, 123.99288349,\n",
       "       123.90669811, 124.50078552, 124.32212391, 131.10734556,\n",
       "       115.10116256, 127.15066342, 120.77006324, 125.75515579,\n",
       "       130.82525579, 131.01642863, 122.43200278, 121.14083329,\n",
       "       126.41381719, 122.45573232, 124.38196361, 129.58121913,\n",
       "       127.84469027, 127.42600146, 130.01853713, 127.89841091,\n",
       "       125.13846274, 124.50260225, 125.03496009, 124.83338714,\n",
       "       131.28132758, 123.67191048, 133.62962217, 127.37033302,\n",
       "       127.58324412, 131.32415582, 130.00630315, 131.65410585,\n",
       "       130.15938588, 130.88074335, 128.15640509, 124.3990131 ,\n",
       "       120.05080796, 129.34676341, 124.49059855, 126.1374467 ,\n",
       "       125.78217318, 123.81727668, 123.55691124, 127.85222793,\n",
       "       130.07648784, 116.83847187, 122.13189725, 119.2495512 ,\n",
       "       130.27196836, 117.2951862 , 126.26400066, 117.86151138,\n",
       "       132.98034543, 130.88670771, 125.7038828 , 122.03832653,\n",
       "       121.30285925, 125.83600853, 121.44829136, 123.9810167 ,\n",
       "       118.00598111, 125.07022373, 125.89413525, 121.93062319,\n",
       "       118.78874473, 112.89727261, 121.57992199, 124.36370992,\n",
       "       126.60721392, 129.4731207 , 125.01274403, 122.24831063,\n",
       "       118.76028283, 130.51658759, 134.15879382, 119.03502374,\n",
       "       127.2313443 , 130.78119552, 122.77174036, 115.94810676,\n",
       "       130.65457469, 121.32616241, 123.85908473, 123.19696665,\n",
       "       129.67743679, 127.62143679, 128.89789902, 110.9924048 ,\n",
       "       123.82708741, 119.28133556, 117.18678107, 124.50782493,\n",
       "       117.08427629, 118.46517574, 121.86054112, 127.10716284,\n",
       "       122.13798618, 118.36954402, 117.10162667, 124.81008397,\n",
       "       119.86444093, 129.22492698, 123.93670067, 125.37223403,\n",
       "       118.35778458, 123.34516254, 127.12815132, 125.77571268,\n",
       "       125.40598533, 130.18526277, 119.76550132, 125.37680671,\n",
       "       121.43213088, 121.54801685, 124.34478565, 126.53980548,\n",
       "       118.79459154, 114.32500417, 117.86491884, 132.76960524,\n",
       "       122.33278831, 126.28487407, 122.33449969, 133.29918404,\n",
       "       124.36935092, 123.84250369, 136.20215824, 132.0238296 ])"
      ]
     },
     "execution_count": 36,
     "metadata": {},
     "output_type": "execute_result"
    }
   ],
   "source": [
    "ridgePrediction=gcv.predict(X_test)\n",
    "ridgePrediction"
   ]
  },
  {
   "cell_type": "code",
   "execution_count": 37,
   "id": "45cec0d4",
   "metadata": {},
   "outputs": [],
   "source": [
    "import seaborn as sns\n",
    "%matplotlib inline"
   ]
  },
  {
   "cell_type": "code",
   "execution_count": 38,
   "id": "5d55cea0",
   "metadata": {},
   "outputs": [
    {
     "name": "stderr",
     "output_type": "stream",
     "text": [
      "C:\\Users\\HP\\anaconda3\\lib\\site-packages\\seaborn\\distributions.py:2619: FutureWarning: `distplot` is a deprecated function and will be removed in a future version. Please adapt your code to use either `displot` (a figure-level function with similar flexibility) or `histplot` (an axes-level function for histograms).\n",
      "  warnings.warn(msg, FutureWarning)\n"
     ]
    },
    {
     "data": {
      "text/plain": [
       "<AxesSubplot:xlabel='Pressure Level', ylabel='Density'>"
      ]
     },
     "execution_count": 38,
     "metadata": {},
     "output_type": "execute_result"
    },
    {
     "data": {
      "image/png": "[encoded data removed]",
      "text/plain": [
       "<Figure size 640x480 with 1 Axes>"
      ]
     },
     "metadata": {},
     "output_type": "display_data"
    }
   ],
   "source": [
    "sns.distplot(y_test-ridgePrediction)"
   ]
  },
  {
   "cell_type": "code",
   "execution_count": 39,
   "id": "ac184f92",
   "metadata": {},
   "outputs": [
    {
     "data": {
      "text/plain": [
       "0.5125022911438959"
      ]
     },
     "execution_count": 39,
     "metadata": {},
     "output_type": "execute_result"
    }
   ],
   "source": [
    "## accuracy\n",
    "from sklearn.metrics import r2_score\n",
    "\n",
    "r2_score(y_test,ridgePrediction)"
   ]
  },
  {
   "cell_type": "markdown",
   "id": "ec086525",
   "metadata": {},
   "source": [
    "## K Nearest Regressor"
   ]
  },
  {
   "cell_type": "code",
   "execution_count": 40,
   "id": "40418f31",
   "metadata": {},
   "outputs": [
    {
     "name": "stderr",
     "output_type": "stream",
     "text": [
      "C:\\Users\\HP\\anaconda3\\lib\\site-packages\\seaborn\\_decorators.py:36: FutureWarning: Pass the following variable as a keyword arg: x. From version 0.12, the only valid positional argument will be `data`, and passing other arguments without an explicit keyword will result in an error or misinterpretation.\n",
      "  warnings.warn(\n"
     ]
    },
    {
     "data": {
      "text/plain": [
       "<AxesSubplot:xlabel='Frequency'>"
      ]
     },
     "execution_count": 40,
     "metadata": {},
     "output_type": "execute_result"
    },
    {
     "data": {
      "image/png": "[encoded data removed]",
      "text/plain": [
       "<Figure size 640x480 with 1 Axes>"
      ]
     },
     "metadata": {},
     "output_type": "display_data"
    }
   ],
   "source": [
    "sns.boxplot(X_train['Frequency'])"
   ]
  },
  {
   "cell_type": "code",
   "execution_count": 41,
   "id": "7d9e7aaa",
   "metadata": {},
   "outputs": [
    {
     "name": "stderr",
     "output_type": "stream",
     "text": [
      "C:\\Users\\HP\\anaconda3\\lib\\site-packages\\seaborn\\_decorators.py:36: FutureWarning: Pass the following variable as a keyword arg: x. From version 0.12, the only valid positional argument will be `data`, and passing other arguments without an explicit keyword will result in an error or misinterpretation.\n",
      "  warnings.warn(\n"
     ]
    },
    {
     "data": {
      "text/plain": [
       "<AxesSubplot:xlabel='Angle of Attack'>"
      ]
     },
     "execution_count": 41,
     "metadata": {},
     "output_type": "execute_result"
    },
    {
     "data": {
      "image/png": "[encoded data removed]",
      "text/plain": [
       "<Figure size 640x480 with 1 Axes>"
      ]
     },
     "metadata": {},
     "output_type": "display_data"
    }
   ],
   "source": [
    "sns.boxplot(X_train['Angle of Attack'])"
   ]
  },
  {
   "cell_type": "code",
   "execution_count": 42,
   "id": "91b949a0",
   "metadata": {},
   "outputs": [
    {
     "data": {
      "text/plain": [
       "Index(['Frequency', 'Angle of Attack', 'Chord Length', 'Free-stream Velocity',\n",
       "       'Suction side'],\n",
       "      dtype='object')"
      ]
     },
     "execution_count": 42,
     "metadata": {},
     "output_type": "execute_result"
    }
   ],
   "source": [
    "X.columns"
   ]
  },
  {
   "cell_type": "code",
   "execution_count": 43,
   "id": "8061281d",
   "metadata": {},
   "outputs": [
    {
     "name": "stderr",
     "output_type": "stream",
     "text": [
      "C:\\Users\\HP\\anaconda3\\lib\\site-packages\\seaborn\\_decorators.py:36: FutureWarning: Pass the following variable as a keyword arg: x. From version 0.12, the only valid positional argument will be `data`, and passing other arguments without an explicit keyword will result in an error or misinterpretation.\n",
      "  warnings.warn(\n"
     ]
    },
    {
     "data": {
      "text/plain": [
       "<AxesSubplot:xlabel='Angle of Attack'>"
      ]
     },
     "execution_count": 43,
     "metadata": {},
     "output_type": "execute_result"
    },
    {
     "data": {
      "image/png": "[encoded data removed]",
      "text/plain": [
       "<Figure size 640x480 with 1 Axes>"
      ]
     },
     "metadata": {},
     "output_type": "display_data"
    }
   ],
   "source": [
    "sns.boxplot(X_train['Angle of Attack'])"
   ]
  },
  {
   "cell_type": "code",
   "execution_count": 44,
   "id": "c4515d4f",
   "metadata": {
    "scrolled": true
   },
   "outputs": [
    {
     "name": "stderr",
     "output_type": "stream",
     "text": [
      "C:\\Users\\HP\\anaconda3\\lib\\site-packages\\seaborn\\_decorators.py:36: FutureWarning: Pass the following variable as a keyword arg: x. From version 0.12, the only valid positional argument will be `data`, and passing other arguments without an explicit keyword will result in an error or misinterpretation.\n",
      "  warnings.warn(\n"
     ]
    },
    {
     "data": {
      "text/plain": [
       "<AxesSubplot:xlabel='Free-stream Velocity'>"
      ]
     },
     "execution_count": 44,
     "metadata": {},
     "output_type": "execute_result"
    },
    {
     "data": {
      "image/png": "[encoded data removed]",
      "text/plain": [
       "<Figure size 640x480 with 1 Axes>"
      ]
     },
     "metadata": {},
     "output_type": "display_data"
    }
   ],
   "source": [
    "sns.boxplot(X_train['Free-stream Velocity'])"
   ]
  },
  {
   "cell_type": "code",
   "execution_count": 45,
   "id": "84add205",
   "metadata": {},
   "outputs": [
    {
     "name": "stderr",
     "output_type": "stream",
     "text": [
      "C:\\Users\\HP\\anaconda3\\lib\\site-packages\\seaborn\\_decorators.py:36: FutureWarning: Pass the following variable as a keyword arg: x. From version 0.12, the only valid positional argument will be `data`, and passing other arguments without an explicit keyword will result in an error or misinterpretation.\n",
      "  warnings.warn(\n"
     ]
    },
    {
     "data": {
      "text/plain": [
       "<AxesSubplot:xlabel='Suction side'>"
      ]
     },
     "execution_count": 45,
     "metadata": {},
     "output_type": "execute_result"
    },
    {
     "data": {
      "image/png": "[encoded data removed]",
      "text/plain": [
       "<Figure size 640x480 with 1 Axes>"
      ]
     },
     "metadata": {},
     "output_type": "display_data"
    }
   ],
   "source": [
    "sns.boxplot(X_train['Suction side'])"
   ]
  },
  {
   "cell_type": "code",
   "execution_count": 46,
   "id": "0ba82e53",
   "metadata": {},
   "outputs": [
    {
     "data": {
      "text/html": [
       "<div>\n",
       "<style scoped>\n",
       "    .dataframe tbody tr th:only-of-type {\n",
       "        vertical-align: middle;\n",
       "    }\n",
       "\n",
       "    .dataframe tbody tr th {\n",
       "        vertical-align: top;\n",
       "    }\n",
       "\n",
       "    .dataframe thead th {\n",
       "        text-align: right;\n",
       "    }\n",
       "</style>\n",
       "<table border=\"1\" class=\"dataframe\">\n",
       "  <thead>\n",
       "    <tr style=\"text-align: right;\">\n",
       "      <th></th>\n",
       "      <th>Frequency</th>\n",
       "      <th>Angle of Attack</th>\n",
       "      <th>Chord Length</th>\n",
       "      <th>Free-stream Velocity</th>\n",
       "      <th>Suction side</th>\n",
       "    </tr>\n",
       "  </thead>\n",
       "  <tbody>\n",
       "    <tr>\n",
       "      <th>0</th>\n",
       "      <td>800</td>\n",
       "      <td>0.0</td>\n",
       "      <td>0.3048</td>\n",
       "      <td>71.3</td>\n",
       "      <td>0.002663</td>\n",
       "    </tr>\n",
       "    <tr>\n",
       "      <th>1</th>\n",
       "      <td>1000</td>\n",
       "      <td>0.0</td>\n",
       "      <td>0.3048</td>\n",
       "      <td>71.3</td>\n",
       "      <td>0.002663</td>\n",
       "    </tr>\n",
       "    <tr>\n",
       "      <th>2</th>\n",
       "      <td>1250</td>\n",
       "      <td>0.0</td>\n",
       "      <td>0.3048</td>\n",
       "      <td>71.3</td>\n",
       "      <td>0.002663</td>\n",
       "    </tr>\n",
       "    <tr>\n",
       "      <th>3</th>\n",
       "      <td>1600</td>\n",
       "      <td>0.0</td>\n",
       "      <td>0.3048</td>\n",
       "      <td>71.3</td>\n",
       "      <td>0.002663</td>\n",
       "    </tr>\n",
       "    <tr>\n",
       "      <th>4</th>\n",
       "      <td>2000</td>\n",
       "      <td>0.0</td>\n",
       "      <td>0.3048</td>\n",
       "      <td>71.3</td>\n",
       "      <td>0.002663</td>\n",
       "    </tr>\n",
       "    <tr>\n",
       "      <th>...</th>\n",
       "      <td>...</td>\n",
       "      <td>...</td>\n",
       "      <td>...</td>\n",
       "      <td>...</td>\n",
       "      <td>...</td>\n",
       "    </tr>\n",
       "    <tr>\n",
       "      <th>1498</th>\n",
       "      <td>2500</td>\n",
       "      <td>15.6</td>\n",
       "      <td>0.1016</td>\n",
       "      <td>39.6</td>\n",
       "      <td>0.052849</td>\n",
       "    </tr>\n",
       "    <tr>\n",
       "      <th>1499</th>\n",
       "      <td>3150</td>\n",
       "      <td>15.6</td>\n",
       "      <td>0.1016</td>\n",
       "      <td>39.6</td>\n",
       "      <td>0.052849</td>\n",
       "    </tr>\n",
       "    <tr>\n",
       "      <th>1500</th>\n",
       "      <td>4000</td>\n",
       "      <td>15.6</td>\n",
       "      <td>0.1016</td>\n",
       "      <td>39.6</td>\n",
       "      <td>0.052849</td>\n",
       "    </tr>\n",
       "    <tr>\n",
       "      <th>1501</th>\n",
       "      <td>5000</td>\n",
       "      <td>15.6</td>\n",
       "      <td>0.1016</td>\n",
       "      <td>39.6</td>\n",
       "      <td>0.052849</td>\n",
       "    </tr>\n",
       "    <tr>\n",
       "      <th>1502</th>\n",
       "      <td>6300</td>\n",
       "      <td>15.6</td>\n",
       "      <td>0.1016</td>\n",
       "      <td>39.6</td>\n",
       "      <td>0.052849</td>\n",
       "    </tr>\n",
       "  </tbody>\n",
       "</table>\n",
       "<p>1503 rows × 5 columns</p>\n",
       "</div>"
      ],
      "text/plain": [
       "      Frequency  Angle of Attack  Chord Length  Free-stream Velocity  \\\n",
       "0           800              0.0        0.3048                  71.3   \n",
       "1          1000              0.0        0.3048                  71.3   \n",
       "2          1250              0.0        0.3048                  71.3   \n",
       "3          1600              0.0        0.3048                  71.3   \n",
       "4          2000              0.0        0.3048                  71.3   \n",
       "...         ...              ...           ...                   ...   \n",
       "1498       2500             15.6        0.1016                  39.6   \n",
       "1499       3150             15.6        0.1016                  39.6   \n",
       "1500       4000             15.6        0.1016                  39.6   \n",
       "1501       5000             15.6        0.1016                  39.6   \n",
       "1502       6300             15.6        0.1016                  39.6   \n",
       "\n",
       "      Suction side  \n",
       "0         0.002663  \n",
       "1         0.002663  \n",
       "2         0.002663  \n",
       "3         0.002663  \n",
       "4         0.002663  \n",
       "...            ...  \n",
       "1498      0.052849  \n",
       "1499      0.052849  \n",
       "1500      0.052849  \n",
       "1501      0.052849  \n",
       "1502      0.052849  \n",
       "\n",
       "[1503 rows x 5 columns]"
      ]
     },
     "execution_count": 46,
     "metadata": {},
     "output_type": "execute_result"
    }
   ],
   "source": [
    "X"
   ]
  },
  {
   "cell_type": "code",
   "execution_count": 47,
   "id": "ab9b24d6",
   "metadata": {},
   "outputs": [
    {
     "data": {
      "text/plain": [
       "0       126.201\n",
       "1       125.201\n",
       "2       125.951\n",
       "3       127.591\n",
       "4       127.461\n",
       "         ...   \n",
       "1498    110.264\n",
       "1499    109.254\n",
       "1500    106.604\n",
       "1501    106.224\n",
       "1502    104.204\n",
       "Name: Pressure Level, Length: 1503, dtype: float64"
      ]
     },
     "execution_count": 47,
     "metadata": {},
     "output_type": "execute_result"
    }
   ],
   "source": [
    "y"
   ]
  },
  {
   "cell_type": "code",
   "execution_count": 48,
   "id": "3f32d429",
   "metadata": {},
   "outputs": [],
   "source": [
    "\n",
    "from sklearn.model_selection import train_test_split\n",
    "\n",
    "Xk_train,Xk_test,yk_train,yk_test=train_test_split(X,y,test_size=0.30)"
   ]
  },
  {
   "cell_type": "code",
   "execution_count": 49,
   "id": "812d9804",
   "metadata": {},
   "outputs": [
    {
     "data": {
      "text/html": [
       "<div>\n",
       "<style scoped>\n",
       "    .dataframe tbody tr th:only-of-type {\n",
       "        vertical-align: middle;\n",
       "    }\n",
       "\n",
       "    .dataframe tbody tr th {\n",
       "        vertical-align: top;\n",
       "    }\n",
       "\n",
       "    .dataframe thead th {\n",
       "        text-align: right;\n",
       "    }\n",
       "</style>\n",
       "<table border=\"1\" class=\"dataframe\">\n",
       "  <thead>\n",
       "    <tr style=\"text-align: right;\">\n",
       "      <th></th>\n",
       "      <th>Frequency</th>\n",
       "      <th>Angle of Attack</th>\n",
       "      <th>Chord Length</th>\n",
       "      <th>Free-stream Velocity</th>\n",
       "      <th>Suction side</th>\n",
       "    </tr>\n",
       "  </thead>\n",
       "  <tbody>\n",
       "    <tr>\n",
       "      <th>19</th>\n",
       "      <td>1600</td>\n",
       "      <td>0.0</td>\n",
       "      <td>0.3048</td>\n",
       "      <td>55.5</td>\n",
       "      <td>0.002831</td>\n",
       "    </tr>\n",
       "    <tr>\n",
       "      <th>1300</th>\n",
       "      <td>3150</td>\n",
       "      <td>3.3</td>\n",
       "      <td>0.1016</td>\n",
       "      <td>71.3</td>\n",
       "      <td>0.002028</td>\n",
       "    </tr>\n",
       "    <tr>\n",
       "      <th>526</th>\n",
       "      <td>500</td>\n",
       "      <td>2.7</td>\n",
       "      <td>0.1524</td>\n",
       "      <td>39.6</td>\n",
       "      <td>0.002948</td>\n",
       "    </tr>\n",
       "    <tr>\n",
       "      <th>641</th>\n",
       "      <td>3150</td>\n",
       "      <td>9.9</td>\n",
       "      <td>0.1524</td>\n",
       "      <td>71.3</td>\n",
       "      <td>0.019300</td>\n",
       "    </tr>\n",
       "    <tr>\n",
       "      <th>1016</th>\n",
       "      <td>16000</td>\n",
       "      <td>4.8</td>\n",
       "      <td>0.0254</td>\n",
       "      <td>71.3</td>\n",
       "      <td>0.000849</td>\n",
       "    </tr>\n",
       "    <tr>\n",
       "      <th>...</th>\n",
       "      <td>...</td>\n",
       "      <td>...</td>\n",
       "      <td>...</td>\n",
       "      <td>...</td>\n",
       "      <td>...</td>\n",
       "    </tr>\n",
       "    <tr>\n",
       "      <th>374</th>\n",
       "      <td>10000</td>\n",
       "      <td>5.3</td>\n",
       "      <td>0.2286</td>\n",
       "      <td>71.3</td>\n",
       "      <td>0.005194</td>\n",
       "    </tr>\n",
       "    <tr>\n",
       "      <th>143</th>\n",
       "      <td>400</td>\n",
       "      <td>3.0</td>\n",
       "      <td>0.3048</td>\n",
       "      <td>31.7</td>\n",
       "      <td>0.005295</td>\n",
       "    </tr>\n",
       "    <tr>\n",
       "      <th>102</th>\n",
       "      <td>1250</td>\n",
       "      <td>3.0</td>\n",
       "      <td>0.3048</td>\n",
       "      <td>71.3</td>\n",
       "      <td>0.004257</td>\n",
       "    </tr>\n",
       "    <tr>\n",
       "      <th>1090</th>\n",
       "      <td>1600</td>\n",
       "      <td>9.5</td>\n",
       "      <td>0.0254</td>\n",
       "      <td>39.6</td>\n",
       "      <td>0.004498</td>\n",
       "    </tr>\n",
       "    <tr>\n",
       "      <th>1111</th>\n",
       "      <td>5000</td>\n",
       "      <td>9.5</td>\n",
       "      <td>0.0254</td>\n",
       "      <td>31.7</td>\n",
       "      <td>0.004614</td>\n",
       "    </tr>\n",
       "  </tbody>\n",
       "</table>\n",
       "<p>1052 rows × 5 columns</p>\n",
       "</div>"
      ],
      "text/plain": [
       "      Frequency  Angle of Attack  Chord Length  Free-stream Velocity  \\\n",
       "19         1600              0.0        0.3048                  55.5   \n",
       "1300       3150              3.3        0.1016                  71.3   \n",
       "526         500              2.7        0.1524                  39.6   \n",
       "641        3150              9.9        0.1524                  71.3   \n",
       "1016      16000              4.8        0.0254                  71.3   \n",
       "...         ...              ...           ...                   ...   \n",
       "374       10000              5.3        0.2286                  71.3   \n",
       "143         400              3.0        0.3048                  31.7   \n",
       "102        1250              3.0        0.3048                  71.3   \n",
       "1090       1600              9.5        0.0254                  39.6   \n",
       "1111       5000              9.5        0.0254                  31.7   \n",
       "\n",
       "      Suction side  \n",
       "19        0.002831  \n",
       "1300      0.002028  \n",
       "526       0.002948  \n",
       "641       0.019300  \n",
       "1016      0.000849  \n",
       "...            ...  \n",
       "374       0.005194  \n",
       "143       0.005295  \n",
       "102       0.004257  \n",
       "1090      0.004498  \n",
       "1111      0.004614  \n",
       "\n",
       "[1052 rows x 5 columns]"
      ]
     },
     "execution_count": 49,
     "metadata": {},
     "output_type": "execute_result"
    }
   ],
   "source": [
    "Xk_train"
   ]
  },
  {
   "cell_type": "code",
   "execution_count": 50,
   "id": "e3deb3a7",
   "metadata": {},
   "outputs": [
    {
     "data": {
      "text/html": [
       "<div>\n",
       "<style scoped>\n",
       "    .dataframe tbody tr th:only-of-type {\n",
       "        vertical-align: middle;\n",
       "    }\n",
       "\n",
       "    .dataframe tbody tr th {\n",
       "        vertical-align: top;\n",
       "    }\n",
       "\n",
       "    .dataframe thead th {\n",
       "        text-align: right;\n",
       "    }\n",
       "</style>\n",
       "<table border=\"1\" class=\"dataframe\">\n",
       "  <thead>\n",
       "    <tr style=\"text-align: right;\">\n",
       "      <th></th>\n",
       "      <th>Frequency</th>\n",
       "      <th>Angle of Attack</th>\n",
       "      <th>Chord Length</th>\n",
       "      <th>Free-stream Velocity</th>\n",
       "      <th>Suction side</th>\n",
       "    </tr>\n",
       "  </thead>\n",
       "  <tbody>\n",
       "    <tr>\n",
       "      <th>456</th>\n",
       "      <td>1250</td>\n",
       "      <td>0.0</td>\n",
       "      <td>0.1524</td>\n",
       "      <td>71.3</td>\n",
       "      <td>0.001599</td>\n",
       "    </tr>\n",
       "    <tr>\n",
       "      <th>334</th>\n",
       "      <td>800</td>\n",
       "      <td>4.0</td>\n",
       "      <td>0.2286</td>\n",
       "      <td>39.6</td>\n",
       "      <td>0.004738</td>\n",
       "    </tr>\n",
       "    <tr>\n",
       "      <th>1161</th>\n",
       "      <td>5000</td>\n",
       "      <td>17.4</td>\n",
       "      <td>0.0254</td>\n",
       "      <td>71.3</td>\n",
       "      <td>0.016104</td>\n",
       "    </tr>\n",
       "    <tr>\n",
       "      <th>1240</th>\n",
       "      <td>630</td>\n",
       "      <td>0.0</td>\n",
       "      <td>0.1016</td>\n",
       "      <td>71.3</td>\n",
       "      <td>0.001211</td>\n",
       "    </tr>\n",
       "    <tr>\n",
       "      <th>49</th>\n",
       "      <td>250</td>\n",
       "      <td>0.0</td>\n",
       "      <td>0.3048</td>\n",
       "      <td>31.7</td>\n",
       "      <td>0.003313</td>\n",
       "    </tr>\n",
       "    <tr>\n",
       "      <th>...</th>\n",
       "      <td>...</td>\n",
       "      <td>...</td>\n",
       "      <td>...</td>\n",
       "      <td>...</td>\n",
       "      <td>...</td>\n",
       "    </tr>\n",
       "    <tr>\n",
       "      <th>1084</th>\n",
       "      <td>400</td>\n",
       "      <td>9.5</td>\n",
       "      <td>0.0254</td>\n",
       "      <td>39.6</td>\n",
       "      <td>0.004498</td>\n",
       "    </tr>\n",
       "    <tr>\n",
       "      <th>382</th>\n",
       "      <td>1250</td>\n",
       "      <td>5.3</td>\n",
       "      <td>0.2286</td>\n",
       "      <td>39.6</td>\n",
       "      <td>0.006143</td>\n",
       "    </tr>\n",
       "    <tr>\n",
       "      <th>589</th>\n",
       "      <td>1600</td>\n",
       "      <td>5.4</td>\n",
       "      <td>0.1524</td>\n",
       "      <td>31.7</td>\n",
       "      <td>0.005255</td>\n",
       "    </tr>\n",
       "    <tr>\n",
       "      <th>1291</th>\n",
       "      <td>6300</td>\n",
       "      <td>0.0</td>\n",
       "      <td>0.1016</td>\n",
       "      <td>31.7</td>\n",
       "      <td>0.001501</td>\n",
       "    </tr>\n",
       "    <tr>\n",
       "      <th>822</th>\n",
       "      <td>800</td>\n",
       "      <td>8.4</td>\n",
       "      <td>0.0508</td>\n",
       "      <td>39.6</td>\n",
       "      <td>0.005662</td>\n",
       "    </tr>\n",
       "  </tbody>\n",
       "</table>\n",
       "<p>451 rows × 5 columns</p>\n",
       "</div>"
      ],
      "text/plain": [
       "      Frequency  Angle of Attack  Chord Length  Free-stream Velocity  \\\n",
       "456        1250              0.0        0.1524                  71.3   \n",
       "334         800              4.0        0.2286                  39.6   \n",
       "1161       5000             17.4        0.0254                  71.3   \n",
       "1240        630              0.0        0.1016                  71.3   \n",
       "49          250              0.0        0.3048                  31.7   \n",
       "...         ...              ...           ...                   ...   \n",
       "1084        400              9.5        0.0254                  39.6   \n",
       "382        1250              5.3        0.2286                  39.6   \n",
       "589        1600              5.4        0.1524                  31.7   \n",
       "1291       6300              0.0        0.1016                  31.7   \n",
       "822         800              8.4        0.0508                  39.6   \n",
       "\n",
       "      Suction side  \n",
       "456       0.001599  \n",
       "334       0.004738  \n",
       "1161      0.016104  \n",
       "1240      0.001211  \n",
       "49        0.003313  \n",
       "...            ...  \n",
       "1084      0.004498  \n",
       "382       0.006143  \n",
       "589       0.005255  \n",
       "1291      0.001501  \n",
       "822       0.005662  \n",
       "\n",
       "[451 rows x 5 columns]"
      ]
     },
     "execution_count": 50,
     "metadata": {},
     "output_type": "execute_result"
    }
   ],
   "source": [
    "Xk_test"
   ]
  },
  {
   "cell_type": "code",
   "execution_count": 51,
   "id": "4cef0b37",
   "metadata": {},
   "outputs": [],
   "source": [
    "from sklearn.preprocessing import StandardScaler\n",
    "\n",
    "scaler=StandardScaler()\n",
    "scaler.fit(Xk_train)\n",
    "#fit the Xk_train ,since there are outliers\n",
    "# print(Xk_train)\n",
    "XK_train_transformed=scaler.transform(Xk_train)"
   ]
  },
  {
   "cell_type": "code",
   "execution_count": 52,
   "id": "86509b76",
   "metadata": {},
   "outputs": [],
   "source": [
    "Xk_test=scaler.transform(Xk_test)"
   ]
  },
  {
   "cell_type": "code",
   "execution_count": 53,
   "id": "7b66bbe8",
   "metadata": {},
   "outputs": [],
   "source": [
    "from sklearn.neighbors import KNeighborsRegressor\n",
    "from sklearn.model_selection import cross_val_score\n",
    "\n",
    "knnRegressor=KNeighborsRegressor(n_neighbors=1)\n"
   ]
  },
  {
   "cell_type": "code",
   "execution_count": 54,
   "id": "fbe2b1e3",
   "metadata": {},
   "outputs": [
    {
     "data": {
      "text/plain": [
       "KNeighborsRegressor(n_neighbors=1)"
      ]
     },
     "execution_count": 54,
     "metadata": {},
     "output_type": "execute_result"
    }
   ],
   "source": [
    "knnRegressor"
   ]
  },
  {
   "cell_type": "code",
   "execution_count": 55,
   "id": "88839b2e",
   "metadata": {},
   "outputs": [
    {
     "data": {
      "text/html": [
       "<div>\n",
       "<style scoped>\n",
       "    .dataframe tbody tr th:only-of-type {\n",
       "        vertical-align: middle;\n",
       "    }\n",
       "\n",
       "    .dataframe tbody tr th {\n",
       "        vertical-align: top;\n",
       "    }\n",
       "\n",
       "    .dataframe thead th {\n",
       "        text-align: right;\n",
       "    }\n",
       "</style>\n",
       "<table border=\"1\" class=\"dataframe\">\n",
       "  <thead>\n",
       "    <tr style=\"text-align: right;\">\n",
       "      <th></th>\n",
       "      <th>Frequency</th>\n",
       "      <th>Angle of Attack</th>\n",
       "      <th>Chord Length</th>\n",
       "      <th>Free-stream Velocity</th>\n",
       "      <th>Suction side</th>\n",
       "    </tr>\n",
       "  </thead>\n",
       "  <tbody>\n",
       "    <tr>\n",
       "      <th>19</th>\n",
       "      <td>1600</td>\n",
       "      <td>0.0</td>\n",
       "      <td>0.3048</td>\n",
       "      <td>55.5</td>\n",
       "      <td>0.002831</td>\n",
       "    </tr>\n",
       "    <tr>\n",
       "      <th>1300</th>\n",
       "      <td>3150</td>\n",
       "      <td>3.3</td>\n",
       "      <td>0.1016</td>\n",
       "      <td>71.3</td>\n",
       "      <td>0.002028</td>\n",
       "    </tr>\n",
       "    <tr>\n",
       "      <th>526</th>\n",
       "      <td>500</td>\n",
       "      <td>2.7</td>\n",
       "      <td>0.1524</td>\n",
       "      <td>39.6</td>\n",
       "      <td>0.002948</td>\n",
       "    </tr>\n",
       "    <tr>\n",
       "      <th>641</th>\n",
       "      <td>3150</td>\n",
       "      <td>9.9</td>\n",
       "      <td>0.1524</td>\n",
       "      <td>71.3</td>\n",
       "      <td>0.019300</td>\n",
       "    </tr>\n",
       "    <tr>\n",
       "      <th>1016</th>\n",
       "      <td>16000</td>\n",
       "      <td>4.8</td>\n",
       "      <td>0.0254</td>\n",
       "      <td>71.3</td>\n",
       "      <td>0.000849</td>\n",
       "    </tr>\n",
       "    <tr>\n",
       "      <th>...</th>\n",
       "      <td>...</td>\n",
       "      <td>...</td>\n",
       "      <td>...</td>\n",
       "      <td>...</td>\n",
       "      <td>...</td>\n",
       "    </tr>\n",
       "    <tr>\n",
       "      <th>374</th>\n",
       "      <td>10000</td>\n",
       "      <td>5.3</td>\n",
       "      <td>0.2286</td>\n",
       "      <td>71.3</td>\n",
       "      <td>0.005194</td>\n",
       "    </tr>\n",
       "    <tr>\n",
       "      <th>143</th>\n",
       "      <td>400</td>\n",
       "      <td>3.0</td>\n",
       "      <td>0.3048</td>\n",
       "      <td>31.7</td>\n",
       "      <td>0.005295</td>\n",
       "    </tr>\n",
       "    <tr>\n",
       "      <th>102</th>\n",
       "      <td>1250</td>\n",
       "      <td>3.0</td>\n",
       "      <td>0.3048</td>\n",
       "      <td>71.3</td>\n",
       "      <td>0.004257</td>\n",
       "    </tr>\n",
       "    <tr>\n",
       "      <th>1090</th>\n",
       "      <td>1600</td>\n",
       "      <td>9.5</td>\n",
       "      <td>0.0254</td>\n",
       "      <td>39.6</td>\n",
       "      <td>0.004498</td>\n",
       "    </tr>\n",
       "    <tr>\n",
       "      <th>1111</th>\n",
       "      <td>5000</td>\n",
       "      <td>9.5</td>\n",
       "      <td>0.0254</td>\n",
       "      <td>31.7</td>\n",
       "      <td>0.004614</td>\n",
       "    </tr>\n",
       "  </tbody>\n",
       "</table>\n",
       "<p>1052 rows × 5 columns</p>\n",
       "</div>"
      ],
      "text/plain": [
       "      Frequency  Angle of Attack  Chord Length  Free-stream Velocity  \\\n",
       "19         1600              0.0        0.3048                  55.5   \n",
       "1300       3150              3.3        0.1016                  71.3   \n",
       "526         500              2.7        0.1524                  39.6   \n",
       "641        3150              9.9        0.1524                  71.3   \n",
       "1016      16000              4.8        0.0254                  71.3   \n",
       "...         ...              ...           ...                   ...   \n",
       "374       10000              5.3        0.2286                  71.3   \n",
       "143         400              3.0        0.3048                  31.7   \n",
       "102        1250              3.0        0.3048                  71.3   \n",
       "1090       1600              9.5        0.0254                  39.6   \n",
       "1111       5000              9.5        0.0254                  31.7   \n",
       "\n",
       "      Suction side  \n",
       "19        0.002831  \n",
       "1300      0.002028  \n",
       "526       0.002948  \n",
       "641       0.019300  \n",
       "1016      0.000849  \n",
       "...            ...  \n",
       "374       0.005194  \n",
       "143       0.005295  \n",
       "102       0.004257  \n",
       "1090      0.004498  \n",
       "1111      0.004614  \n",
       "\n",
       "[1052 rows x 5 columns]"
      ]
     },
     "execution_count": 55,
     "metadata": {},
     "output_type": "execute_result"
    }
   ],
   "source": [
    "Xk_train"
   ]
  },
  {
   "cell_type": "code",
   "execution_count": 56,
   "id": "98567c57",
   "metadata": {},
   "outputs": [
    {
     "data": {
      "text/plain": [
       "19      126.986\n",
       "1300    132.114\n",
       "526     121.009\n",
       "641     116.849\n",
       "1016    124.208\n",
       "         ...   \n",
       "374     111.350\n",
       "143     125.398\n",
       "102     127.634\n",
       "1090    131.184\n",
       "1111    124.426\n",
       "Name: Pressure Level, Length: 1052, dtype: float64"
      ]
     },
     "execution_count": 56,
     "metadata": {},
     "output_type": "execute_result"
    }
   ],
   "source": [
    "yk_train"
   ]
  },
  {
   "cell_type": "code",
   "execution_count": 57,
   "id": "743cbba6",
   "metadata": {},
   "outputs": [],
   "source": [
    "scores=cross_val_score(knnRegressor,Xk_train,yk_train,cv=10)\n"
   ]
  },
  {
   "cell_type": "code",
   "execution_count": 58,
   "id": "35260c71",
   "metadata": {},
   "outputs": [
    {
     "data": {
      "text/plain": [
       "array([-0.71936532, -0.22919341, -0.29657109, -0.45175717, -0.05991121,\n",
       "       -0.55035796, -0.55086403, -0.14611268, -0.2961034 , -0.11255789])"
      ]
     },
     "execution_count": 58,
     "metadata": {},
     "output_type": "execute_result"
    }
   ],
   "source": [
    "scores"
   ]
  },
  {
   "cell_type": "code",
   "execution_count": 59,
   "id": "b1b9ddd9",
   "metadata": {},
   "outputs": [
    {
     "data": {
      "text/plain": [
       "-0.3412794158585938"
      ]
     },
     "execution_count": 59,
     "metadata": {},
     "output_type": "execute_result"
    }
   ],
   "source": [
    "scores.mean()"
   ]
  },
  {
   "cell_type": "markdown",
   "id": "59987b74",
   "metadata": {},
   "source": [
    "## SVM- SVR"
   ]
  },
  {
   "cell_type": "code",
   "execution_count": 60,
   "id": "768e3dd7",
   "metadata": {},
   "outputs": [],
   "source": [
    "from sklearn.svm import SVR\n",
    "#rbf SVR\n",
    "\n",
    "svrRegression=SVR()#default kerenl=rbf"
   ]
  },
  {
   "cell_type": "code",
   "execution_count": 61,
   "id": "0cb555a5",
   "metadata": {},
   "outputs": [],
   "source": [
    "from sklearn.model_selection import train_test_split\n",
    "\n",
    "X_train,X_test,y_train,y_test = train_test_split(X,y,test_size=0.33,random_state=3)"
   ]
  },
  {
   "cell_type": "code",
   "execution_count": 62,
   "id": "75218701",
   "metadata": {},
   "outputs": [
    {
     "data": {
      "text/plain": [
       "SVR()"
      ]
     },
     "execution_count": 62,
     "metadata": {},
     "output_type": "execute_result"
    }
   ],
   "source": [
    "svrRegression.fit(X_train,y_train)"
   ]
  },
  {
   "cell_type": "code",
   "execution_count": 63,
   "id": "3e3ec5c9",
   "metadata": {},
   "outputs": [
    {
     "data": {
      "text/plain": [
       "array([126.28533397, 123.67976833, 127.1228707 , 117.85683296,\n",
       "       118.30797807, 127.29751567, 127.23347191, 127.18485467,\n",
       "       125.25726653, 127.23772002, 127.24102311, 119.62336822,\n",
       "       123.68351994, 127.30419101, 127.38226777, 125.25803399,\n",
       "       126.89225985, 127.35076535, 126.88429598, 127.17714741,\n",
       "       127.3482915 , 127.23347202, 127.30492648, 125.26372784,\n",
       "       119.61803204, 126.89195033, 127.35795103, 119.62390368,\n",
       "       127.23260116, 118.30675335, 127.29598445, 126.27640911,\n",
       "       127.35463029, 126.27640904, 127.17821052, 125.26438795,\n",
       "       117.58045401, 127.246977  , 126.27615828, 127.35497842,\n",
       "       127.37753803, 126.28383282, 125.26455358, 121.56896091,\n",
       "       127.22445129, 118.30815364, 119.62309174, 118.30993519,\n",
       "       127.35057947, 126.88214284, 117.58003892, 125.25943568,\n",
       "       127.30479828, 127.22935028, 118.31101927, 117.57999973,\n",
       "       126.89120026, 127.22264905, 127.34818567, 119.62289458,\n",
       "       127.29771175, 126.27640897, 127.35093848, 117.85703704,\n",
       "       127.24776219, 127.12907948, 127.22547119, 126.28658583,\n",
       "       126.88270025, 126.28677349, 121.57032536, 127.34822076,\n",
       "       118.3117807 , 123.68372359, 127.29783731, 127.23153119,\n",
       "       117.85878908, 127.17956671, 126.27856581, 123.67635973,\n",
       "       121.57615534, 121.5761908 , 125.25626137, 127.22507753,\n",
       "       127.35062578, 127.08694087, 127.2961973 , 126.88989395,\n",
       "       127.35322691, 127.24436571, 119.62098104, 117.85664663,\n",
       "       127.30215131, 127.34873397, 126.27548047, 127.35419126,\n",
       "       127.34851442, 127.29480295, 127.3494144 , 127.35769254,\n",
       "       127.34813353, 126.89207466, 127.38392317, 118.30658163,\n",
       "       118.59204953, 125.26480687, 127.22958796, 117.59112535,\n",
       "       127.23907268, 127.35074396, 117.85856402, 121.56890482,\n",
       "       117.59119029, 119.6216179 , 127.37564172, 127.38330683,\n",
       "       127.3565046 , 117.85867344, 126.28609065, 121.57659062,\n",
       "       126.89154695, 127.34837002, 123.67488892, 123.68411596,\n",
       "       127.35839941, 117.59122104, 118.30837583, 118.30745206,\n",
       "       127.07810893, 127.35765515, 127.29778032, 126.27693959,\n",
       "       126.89020737, 127.30440777, 125.25906475, 127.08304211,\n",
       "       125.26718635, 125.26429805, 118.31183881, 119.62462131,\n",
       "       123.67620824, 127.34851634, 119.61748814, 126.89244352,\n",
       "       127.07985792, 127.13226965, 127.37796625, 127.17821058,\n",
       "       127.22958807, 118.3083757 , 118.30636186, 118.59251499,\n",
       "       127.23347183, 119.62429202, 127.37830538, 126.89084784,\n",
       "       117.58023213, 117.58009168, 123.68045076, 126.89044963,\n",
       "       126.28449848, 127.18693071, 117.58005283, 127.2473635 ,\n",
       "       127.37580357, 117.58005261, 127.29818565, 121.57396609,\n",
       "       117.58023193, 127.3498846 , 121.57727995, 126.27603181,\n",
       "       126.88130987, 125.26015026, 127.35015132, 127.23323425,\n",
       "       127.29797308, 126.28635882, 127.29678563, 127.30390998,\n",
       "       121.57762879, 123.68379999, 127.07859681, 127.17911806,\n",
       "       127.35381268, 127.34843495, 118.31023064, 126.27856598,\n",
       "       126.88095142, 126.89244326, 121.56866797, 119.6212791 ,\n",
       "       117.58005277, 123.67886572, 117.85878915, 127.08010923,\n",
       "       118.30808034, 127.34946439, 127.22299054, 127.35398557,\n",
       "       127.35783916, 127.35636022, 119.61681909, 117.85703708,\n",
       "       126.27555839, 119.62059437, 127.24447344, 126.27856595,\n",
       "       127.24086475, 118.30747681, 127.29646165, 127.12936311,\n",
       "       125.26480702, 125.26419549, 127.13264616, 127.13239253,\n",
       "       127.35388168, 127.35093858, 123.67651003, 127.34862116,\n",
       "       123.67647275, 126.28677384, 127.38150068, 127.37594127,\n",
       "       127.12377247, 127.35878219, 126.88324611, 127.24011285,\n",
       "       123.67688471, 127.37727782, 127.08339036, 127.30185128,\n",
       "       123.68322517, 127.22910938, 121.57664936, 127.22329374,\n",
       "       121.56896142, 119.61861829, 126.8841123 , 117.85689592,\n",
       "       127.13141771, 127.3503188 , 127.3851682 , 119.62378466,\n",
       "       123.68464055, 126.28477096, 127.18013657, 127.35855125,\n",
       "       127.35418783, 127.23190728, 127.24755312, 127.35047288,\n",
       "       123.68404042, 127.12475447, 126.88723792, 127.35044951,\n",
       "       127.37715815, 118.31182457, 127.23299337, 121.57024339,\n",
       "       127.35007885, 126.8882361 , 127.17936041, 117.59122102,\n",
       "       126.88743136, 126.27692642, 125.26827171, 127.24045549,\n",
       "       127.22529321, 127.2983294 , 127.18658547, 127.22253946,\n",
       "       126.88173697, 118.31121758, 119.62151797, 127.34993784,\n",
       "       127.24811833, 127.22353051, 126.89125214, 119.61868844,\n",
       "       127.38019681, 127.35665988, 126.89203768, 121.5736402 ,\n",
       "       117.8577376 , 126.89211204, 117.85848548, 127.3547473 ,\n",
       "       126.88214258, 126.89219842, 117.59122092, 126.88339937,\n",
       "       126.88848096, 119.61668881, 125.2585429 , 127.23238937,\n",
       "       127.2437129 , 127.22213997, 125.26065928, 123.68082521,\n",
       "       125.26809168, 127.07889199, 118.31054518, 121.57419879,\n",
       "       123.68082551, 127.23907277, 127.13189522, 127.29817459,\n",
       "       119.62408271, 126.27640875, 118.31123904, 127.22482219,\n",
       "       127.07914986, 117.85644262, 121.57070866, 127.22334841,\n",
       "       119.61715595, 121.56849579, 127.29734069, 117.58017357,\n",
       "       118.30798524, 121.57647311, 118.30983292, 127.22426289,\n",
       "       117.58037686, 127.12881276, 127.38554066, 126.28563689,\n",
       "       126.28239506, 127.2965705 , 126.28076941, 117.58035292,\n",
       "       126.88318181, 127.37588403, 127.34811863, 127.12644628,\n",
       "       126.28474376, 126.88305267, 127.18385808, 127.22286977,\n",
       "       118.30837579, 117.85664639, 117.85787866, 127.29586002,\n",
       "       127.35030135, 127.35426634, 118.3083755 , 127.37561789,\n",
       "       127.17998064, 127.12543969, 117.85787875, 126.28624437,\n",
       "       127.22877908, 119.62141841, 127.35799523, 118.30822743,\n",
       "       126.28184372, 117.58023209, 125.26012485, 126.27803644,\n",
       "       126.28277211, 118.3072331 , 117.59112544, 127.2480113 ,\n",
       "       119.61881792, 121.56955307, 126.89192557, 121.57419874,\n",
       "       126.28584526, 127.34942679, 127.24693096, 126.27533754,\n",
       "       121.57419856, 125.26279669, 118.3080221 , 127.37515812,\n",
       "       123.68373643, 127.30559644, 127.35014345, 121.57070894,\n",
       "       127.23209901, 127.35047296, 127.3505905 , 121.57724538,\n",
       "       126.88164962, 123.68445385, 117.85815852, 127.23875433,\n",
       "       127.35355766, 127.37733737, 127.23064968, 127.24421346,\n",
       "       127.37770138, 123.67527552, 127.37603202, 118.59204638,\n",
       "       121.57762902, 127.1319182 , 119.62335857, 119.62181786,\n",
       "       123.67688462, 127.37785168, 126.88848106, 127.34766134,\n",
       "       118.30712329, 127.18563894, 127.23226358, 127.17876952,\n",
       "       119.61733485, 127.18628753, 127.17971665, 121.57762865,\n",
       "       127.17875826, 117.85650557, 127.24023525, 123.67451447,\n",
       "       125.26480706, 127.08719218, 127.30476311, 125.2585427 ,\n",
       "       118.30718152, 117.5911149 , 119.61901775, 127.12569009,\n",
       "       127.08647087, 127.35463044, 126.28226811, 127.37591814,\n",
       "       127.38083029, 123.68464103, 117.59109918, 123.68178568,\n",
       "       126.88232889, 117.58009146, 119.80761522, 119.62462163,\n",
       "       127.34850429, 127.22870468, 121.56861219, 123.68014897,\n",
       "       127.35368574, 127.34992626, 126.89195023, 127.29541019,\n",
       "       123.67962783, 123.67598018, 121.56896128, 125.25864891,\n",
       "       127.350744  , 123.67622074, 127.22334827, 121.57384956,\n",
       "       117.58006191, 125.26480675, 117.85703674, 126.88954865,\n",
       "       127.2402464 , 127.35831678, 127.22483434, 127.18614202,\n",
       "       126.28677371, 127.37528926, 127.18252508, 117.580319  ,\n",
       "       127.12509518, 118.31213428, 126.2867736 , 127.34979933,\n",
       "       121.56798159, 118.30707926, 117.85685807, 121.57215758,\n",
       "       121.57716342, 118.31198602, 121.57053446, 121.57381499,\n",
       "       127.29738747, 118.59219278, 121.5671571 , 127.2973523 ,\n",
       "       127.35030696, 126.27629055, 126.28652304, 121.57701184,\n",
       "       127.08681912, 119.62422187, 121.57745447, 127.37830533,\n",
       "       125.26065884, 121.57070912, 127.35700908, 127.24754197,\n",
       "       127.38414921, 118.30784712, 125.2600477 , 127.12567923])"
      ]
     },
     "execution_count": 63,
     "metadata": {},
     "output_type": "execute_result"
    }
   ],
   "source": [
    "svr_predictions=svrRegression.predict(X_test)\n",
    "svr_predictions"
   ]
  },
  {
   "cell_type": "code",
   "execution_count": 64,
   "id": "fd37678c",
   "metadata": {},
   "outputs": [],
   "source": [
    "## using cross search value\n",
    "from sklearn.model_selection import cross_val_score\n",
    "csvScores=cross_val_score(svrRegression,X_train,y_train,scoring='neg_mean_squared_error',cv=10)\n"
   ]
  },
  {
   "cell_type": "code",
   "execution_count": 65,
   "id": "7499aa9f",
   "metadata": {},
   "outputs": [
    {
     "data": {
      "text/plain": [
       "array([-41.29260157, -45.43665478, -37.737557  , -43.47178442,\n",
       "       -36.64745203, -38.97735548, -35.4944035 , -41.74926926,\n",
       "       -39.42150943, -42.45820731])"
      ]
     },
     "execution_count": 65,
     "metadata": {},
     "output_type": "execute_result"
    }
   ],
   "source": [
    "csvScores"
   ]
  },
  {
   "cell_type": "code",
   "execution_count": 66,
   "id": "7440b981",
   "metadata": {},
   "outputs": [
    {
     "data": {
      "text/plain": [
       "-40.26867947819086"
      ]
     },
     "execution_count": 66,
     "metadata": {},
     "output_type": "execute_result"
    }
   ],
   "source": [
    "csvScores.mean()"
   ]
  },
  {
   "cell_type": "code",
   "execution_count": 67,
   "id": "44cd4b0b",
   "metadata": {},
   "outputs": [
    {
     "data": {
      "text/plain": [
       "0.19354096564147205"
      ]
     },
     "execution_count": 67,
     "metadata": {},
     "output_type": "execute_result"
    }
   ],
   "source": [
    "from sklearn.metrics import r2_score\n",
    "\n",
    "r2_score(y_test,svr_predictions)"
   ]
  },
  {
   "cell_type": "markdown",
   "id": "3bb5a84b",
   "metadata": {},
   "source": [
    "## Linear SVR"
   ]
  },
  {
   "cell_type": "code",
   "execution_count": null,
   "id": "7d656f7b",
   "metadata": {},
   "outputs": [],
   "source": [
    "## linear SVr\n",
    "\n",
    "from sklearn.svm import SVR\n",
    "\n",
    "svrRegression=SVR(kernel='linear')#default kerenl=rbf\n",
    "\n",
    "from sklearn.model_selection import train_test_split\n",
    "\n",
    "X_train,X_test,y_train,y_test = train_test_split(X,y,test_size=0.33,random_state=3)\n",
    "\n",
    "svrRegression.fit(X_train,y_train)\n",
    "\n",
    "svr_linear_predictions=svrRegression.predict(X_test)\n",
    "\n",
    "r2_score(y_test,svr_linear_predictions)"
   ]
  },
  {
   "cell_type": "code",
   "execution_count": null,
   "id": "f575bcf6",
   "metadata": {},
   "outputs": [],
   "source": [
    "## poly\n",
    "\n",
    "from sklearn.svm import SVR\n",
    "\n",
    "svrRegression=SVR(kernel='poly')#default kerenl=rbf\n",
    "\n",
    "from sklearn.model_selection import train_test_split\n",
    "\n",
    "X_train,X_test,y_train,y_test = train_test_split(X,y,test_size=0.33,random_state=3)\n",
    "\n",
    "svrRegression.fit(X_train,y_train)\n",
    "\n",
    "svr_linear_predictions=svrRegression.predict(X_test)\n",
    "\n",
    "r2_score(y_test,svr_linear_predictions)"
   ]
  },
  {
   "cell_type": "code",
   "execution_count": null,
   "id": "43b45d36",
   "metadata": {},
   "outputs": [],
   "source": [
    "## sigmoid\n",
    "\n",
    "from sklearn.svm import SVR\n",
    "\n",
    "svrRegression=SVR(kernel='sigmoid')#default kerenl=rbf\n",
    "\n",
    "from sklearn.model_selection import train_test_split\n",
    "\n",
    "X_train,X_test,y_train,y_test = train_test_split(X,y,test_size=0.33,random_state=3)\n",
    "\n",
    "svrRegression.fit(X_train,y_train)\n",
    "\n",
    "svr_linear_predictions=svrRegression.predict(X_test)\n",
    "\n",
    "r2_score(y_test,svr_linear_predictions)"
   ]
  },
  {
   "cell_type": "code",
   "execution_count": null,
   "id": "abd86cf0",
   "metadata": {},
   "outputs": [],
   "source": [
    "## precomputed\n",
    "\n",
    "from sklearn.svm import SVR\n",
    "\n",
    "svrRegression=SVR(kernel='precomputed')#default kerenl=rbf\n",
    "\n",
    "from sklearn.model_selection import train_test_split\n",
    "\n",
    "X_train,X_test,y_train,y_test = train_test_split(X,y,test_size=0.33,random_state=3)\n",
    "\n",
    "svrRegression.fit(X_train,y_train)\n",
    "\n",
    "svr_linear_predictions=svrRegression.predict(X_test)\n",
    "\n",
    "r2_score(y_test,svr_linear_predictions)"
   ]
  },
  {
   "cell_type": "code",
   "execution_count": null,
   "id": "b03cde2e",
   "metadata": {},
   "outputs": [],
   "source": [
    "## grid search cv"
   ]
  },
  {
   "cell_type": "code",
   "execution_count": null,
   "id": "e04cbe97",
   "metadata": {},
   "outputs": [],
   "source": [
    "# from sklearn.model_selection import GridSearchCV\n",
    "# param_grid={'kernel':['linear', '‘poly’', 'rbf','sigmoid','precomputed']}\n",
    "# gsv=GridSearchCV(svrRegression,param_grid,scoring='neg_mean_squared_error',cv=10)\n"
   ]
  },
  {
   "cell_type": "code",
   "execution_count": null,
   "id": "b043c572",
   "metadata": {},
   "outputs": [],
   "source": [
    "# gsv.fit(X_train,y_train)"
   ]
  },
  {
   "cell_type": "code",
   "execution_count": null,
   "id": "f771080c",
   "metadata": {},
   "outputs": [],
   "source": [
    "# gsv.best_params_"
   ]
  },
  {
   "cell_type": "code",
   "execution_count": null,
   "id": "f087de41",
   "metadata": {},
   "outputs": [],
   "source": [
    "# gsv.best_score_"
   ]
  },
  {
   "cell_type": "markdown",
   "id": "5cd427a8",
   "metadata": {},
   "source": [
    "## Random Forest Regressor"
   ]
  },
  {
   "cell_type": "code",
   "execution_count": 68,
   "id": "a4e158c0",
   "metadata": {},
   "outputs": [],
   "source": [
    "from sklearn.ensemble import RandomForestRegressor\n",
    "\n",
    "randomForestRegressor=RandomForestRegressor()"
   ]
  },
  {
   "cell_type": "code",
   "execution_count": 69,
   "id": "57131ab4",
   "metadata": {},
   "outputs": [
    {
     "data": {
      "text/plain": [
       "RandomForestRegressor()"
      ]
     },
     "execution_count": 69,
     "metadata": {},
     "output_type": "execute_result"
    }
   ],
   "source": [
    "randomForestRegressor.fit(X_train,y_train)"
   ]
  },
  {
   "cell_type": "code",
   "execution_count": 70,
   "id": "d097edb1",
   "metadata": {},
   "outputs": [
    {
     "data": {
      "text/plain": [
       "array([133.21552, 126.56794, 121.95617, 131.58264, 115.121  , 129.9807 ,\n",
       "       128.09785, 118.98368, 116.08826, 124.78264, 122.96162, 109.92563,\n",
       "       124.1239 , 118.9755 , 127.49654, 120.4076 , 126.64749, 128.17771,\n",
       "       132.45829, 128.11263, 129.41806, 129.66008, 132.52085, 129.12754,\n",
       "       111.11022, 129.63827, 128.84159, 116.92648, 132.41362, 110.12761,\n",
       "       128.40438, 131.39208, 126.87717, 132.44092, 120.89873, 131.78583,\n",
       "       116.67945, 134.6096 , 122.65584, 128.02328, 132.32138, 125.17579,\n",
       "       124.42982, 119.0619 , 130.09438, 114.12477, 118.37218, 116.3049 ,\n",
       "       128.35442, 132.34154, 113.01533, 130.30053, 133.66022, 127.85545,\n",
       "       115.38662, 126.69259, 124.59807, 126.22644, 129.63763, 121.80309,\n",
       "       123.99561, 127.69644, 129.83917, 128.20706, 131.93927, 131.37985,\n",
       "       128.65841, 125.62202, 112.57235, 126.34352, 125.71334, 128.11356,\n",
       "       134.54142, 119.89342, 126.15669, 122.3773 , 122.26207, 126.10857,\n",
       "       128.20922, 130.97632, 110.50511, 117.58262, 124.57974, 132.59918,\n",
       "       129.65094, 130.50076, 127.8574 , 121.40355, 130.05954, 126.52897,\n",
       "       119.74007, 122.53989, 128.85519, 128.69411, 117.38709, 131.9207 ,\n",
       "       128.00457, 125.00181, 130.42327, 132.46937, 128.92767, 126.97854,\n",
       "       124.56744, 107.34134, 113.28063, 127.81981, 128.83113, 115.31399,\n",
       "       118.17971, 125.53292, 113.48588, 115.7466 , 125.56404, 120.02812,\n",
       "       129.19501, 126.85164, 129.21755, 118.35809, 129.72351, 121.10556,\n",
       "       130.51704, 127.84003, 123.29935, 132.84828, 130.92788, 129.72513,\n",
       "       135.92377, 121.40935, 127.24132, 130.43271, 134.1376 , 109.46948,\n",
       "       126.41919, 129.64282, 114.48723, 124.34432, 121.63273, 123.53143,\n",
       "       116.14629, 123.1206 , 120.12036, 124.58383, 112.61885, 130.52454,\n",
       "       125.32655, 133.51951, 129.49963, 121.18202, 128.39103, 125.17311,\n",
       "       111.3361 , 125.6198 , 128.00149, 125.85882, 123.81295, 119.43468,\n",
       "       128.21739, 130.44429, 121.53312, 120.80336, 126.15363, 128.81981,\n",
       "       129.82726, 134.58709, 130.0076 , 112.2346 , 130.20762, 121.4116 ,\n",
       "       114.43994, 129.70656, 120.7886 , 121.10891, 128.58283, 120.73101,\n",
       "       131.62672, 128.04193, 130.27757, 132.7521 , 122.72625, 124.96839,\n",
       "       125.31316, 129.21845, 118.1075 , 121.42524, 130.92776, 125.95687,\n",
       "       132.89446, 128.39185, 130.88525, 126.87891, 122.10823, 118.2545 ,\n",
       "       118.98552, 122.22497, 126.7312 , 130.84171, 115.67067, 122.23948,\n",
       "       125.53396, 130.35997, 130.63915, 125.74931, 119.99515, 133.13332,\n",
       "       124.55931, 112.97746, 126.08189, 131.4569 , 124.17147, 121.06576,\n",
       "       127.92376, 135.32085, 132.71672, 129.85734, 135.18002, 130.68751,\n",
       "       131.20828, 126.51866, 119.39064, 128.87932, 129.13629, 130.76418,\n",
       "       131.70915, 125.27377, 128.65914, 126.39727, 129.23536, 124.12806,\n",
       "       130.13152, 131.22642, 132.35266, 129.45591, 126.83358, 129.94082,\n",
       "       127.02757, 130.92671, 137.18197, 115.05651, 124.76822, 118.86705,\n",
       "       120.40846, 129.91833, 133.19526, 121.7477 , 124.988  , 126.71407,\n",
       "       121.02292, 128.12767, 130.71639, 131.88989, 133.46228, 129.53536,\n",
       "       132.67682, 122.63309, 121.48438, 128.74957, 125.97864, 129.14988,\n",
       "       130.7404 , 116.54436, 125.37301, 127.23737, 130.70459, 125.49679,\n",
       "       131.99995, 127.64592, 123.77235, 129.34016, 126.09332, 127.80199,\n",
       "       136.08014, 131.07001, 133.00605, 108.61335, 117.66982, 130.76302,\n",
       "       124.90852, 116.20062, 133.76188, 122.79845, 125.2261 , 126.62356,\n",
       "       132.38875, 134.43052, 119.47767, 129.58708, 114.16715, 128.23716,\n",
       "       124.5686 , 128.25195, 111.67377, 123.72322, 126.25661, 124.36508,\n",
       "       131.29652, 133.43088, 130.86019, 121.94523, 132.3547 , 126.02054,\n",
       "       125.54294, 125.79601, 121.27398, 135.85328, 134.24688, 124.25406,\n",
       "       129.91202, 128.09662, 119.45545, 122.68951, 113.51026, 127.7084 ,\n",
       "       119.40662, 131.79366, 119.83997, 132.22802, 135.72319, 117.12117,\n",
       "       126.55379, 111.44433, 113.03324, 115.55398, 116.31824, 122.4202 ,\n",
       "       112.62693, 132.77352, 130.59783, 130.23331, 124.11095, 125.82911,\n",
       "       125.30954, 111.83182, 126.90315, 129.93968, 127.73371, 119.44927,\n",
       "       118.17544, 119.60919, 123.09919, 127.32589, 132.0405 , 114.27822,\n",
       "       125.97511, 124.53449, 130.24829, 127.80768, 119.05474, 129.75055,\n",
       "       121.12418, 118.74901, 132.14986, 130.89411, 132.4328 , 118.55126,\n",
       "       134.40375, 116.09592, 121.42284, 121.79016, 131.23228, 130.64833,\n",
       "       127.44927, 121.13178, 130.09916, 127.289  , 118.28853, 112.37038,\n",
       "       130.9526 , 134.37207, 125.35489, 116.7218 , 124.88053, 126.89179,\n",
       "       125.93133, 124.48461, 134.27852, 129.21614, 121.74773, 131.83231,\n",
       "       130.38104, 124.06708, 135.08338, 129.80288, 128.44626, 129.01369,\n",
       "       123.9767 , 122.92862, 115.30347, 125.85273, 126.36304, 129.36775,\n",
       "       128.48718, 129.38458, 131.12114, 125.81524, 128.90033, 110.38916,\n",
       "       131.23154, 125.50978, 127.09859, 124.25469, 125.54346, 130.0703 ,\n",
       "       128.33255, 127.04667, 134.66477, 130.76917, 126.14008, 117.7867 ,\n",
       "       114.45487, 134.45508, 125.49619, 122.68945, 124.0932 , 118.77835,\n",
       "       130.47088, 118.73629, 131.35895, 134.88814, 127.03923, 124.28726,\n",
       "       113.98722, 109.50948, 122.02312, 129.8648 , 125.39255, 128.92674,\n",
       "       124.93239, 129.28557, 126.79746, 133.71614, 110.72665, 124.73112,\n",
       "       124.80197, 112.78211, 124.71694, 134.07439, 128.43886, 125.26763,\n",
       "       116.19415, 122.48852, 127.43026, 128.16848, 128.39915, 122.88884,\n",
       "       132.2848 , 116.82249, 127.73415, 121.77781, 126.84181, 116.90017,\n",
       "       128.60123, 119.84653, 111.2718 , 126.86683, 115.41604, 126.65004,\n",
       "       130.4183 , 130.79662, 125.52282, 131.37042, 129.40026, 128.90446,\n",
       "       133.70523, 112.26355, 117.7767 , 129.43779, 128.68066, 127.91185,\n",
       "       119.71983, 113.86957, 123.51771, 122.73514, 119.59104, 118.98404,\n",
       "       119.22049, 127.59811, 126.4555 , 124.03553, 115.0075 , 116.06176,\n",
       "       130.3432 , 124.6362 , 127.22533, 119.62356, 133.19324, 117.46034,\n",
       "       121.21138, 128.79113, 122.56679, 134.5878 , 134.01549, 136.19055,\n",
       "       123.90752, 112.57219, 131.39739, 129.93636])"
      ]
     },
     "execution_count": 70,
     "metadata": {},
     "output_type": "execute_result"
    }
   ],
   "source": [
    "rfr_predictions=randomForestRegressor.predict(X_test)\n",
    "rfr_predictions"
   ]
  },
  {
   "cell_type": "code",
   "execution_count": 71,
   "id": "d73a2a0f",
   "metadata": {},
   "outputs": [
    {
     "data": {
      "text/plain": [
       "0.9116702949410157"
      ]
     },
     "execution_count": 71,
     "metadata": {},
     "output_type": "execute_result"
    }
   ],
   "source": [
    "from sklearn.metrics import r2_score\n",
    "r2_score(y_test,rfr_predictions)"
   ]
  },
  {
   "cell_type": "code",
   "execution_count": 72,
   "id": "5745dd4e",
   "metadata": {},
   "outputs": [
    {
     "name": "stderr",
     "output_type": "stream",
     "text": [
      "C:\\Users\\HP\\anaconda3\\lib\\site-packages\\seaborn\\distributions.py:2619: FutureWarning: `distplot` is a deprecated function and will be removed in a future version. Please adapt your code to use either `displot` (a figure-level function with similar flexibility) or `histplot` (an axes-level function for histograms).\n",
      "  warnings.warn(msg, FutureWarning)\n"
     ]
    },
    {
     "data": {
      "text/plain": [
       "<AxesSubplot:xlabel='Pressure Level', ylabel='Density'>"
      ]
     },
     "execution_count": 72,
     "metadata": {},
     "output_type": "execute_result"
    },
    {
     "data": {
      "image/png": "[encoded data removed]",
      "text/plain": [
       "<Figure size 640x480 with 1 Axes>"
      ]
     },
     "metadata": {},
     "output_type": "display_data"
    }
   ],
   "source": [
    "sns.distplot(y_test-rfr_predictions)"
   ]
  },
  {
   "cell_type": "code",
   "execution_count": 73,
   "id": "7692b6a2",
   "metadata": {},
   "outputs": [],
   "source": [
    "## save model to pickle file\n",
    "\n",
    "import pickle\n",
    "pickle.dump(randomForestRegressor,open('rfr_model_airfoil.pkl','wb'))"
   ]
  },
  {
   "cell_type": "code",
   "execution_count": 74,
   "id": "b5f92057",
   "metadata": {},
   "outputs": [],
   "source": [
    "pickled_model=pickle.load(open('rfr_model_airfoil.pkl','rb'))\n",
    "#we can load it and predict on the model"
   ]
  },
  {
   "cell_type": "code",
   "execution_count": 75,
   "id": "cbeb09a4",
   "metadata": {},
   "outputs": [
    {
     "data": {
      "text/plain": [
       "array([133.21552, 126.56794, 121.95617, 131.58264, 115.121  , 129.9807 ,\n",
       "       128.09785, 118.98368, 116.08826, 124.78264, 122.96162, 109.92563,\n",
       "       124.1239 , 118.9755 , 127.49654, 120.4076 , 126.64749, 128.17771,\n",
       "       132.45829, 128.11263, 129.41806, 129.66008, 132.52085, 129.12754,\n",
       "       111.11022, 129.63827, 128.84159, 116.92648, 132.41362, 110.12761,\n",
       "       128.40438, 131.39208, 126.87717, 132.44092, 120.89873, 131.78583,\n",
       "       116.67945, 134.6096 , 122.65584, 128.02328, 132.32138, 125.17579,\n",
       "       124.42982, 119.0619 , 130.09438, 114.12477, 118.37218, 116.3049 ,\n",
       "       128.35442, 132.34154, 113.01533, 130.30053, 133.66022, 127.85545,\n",
       "       115.38662, 126.69259, 124.59807, 126.22644, 129.63763, 121.80309,\n",
       "       123.99561, 127.69644, 129.83917, 128.20706, 131.93927, 131.37985,\n",
       "       128.65841, 125.62202, 112.57235, 126.34352, 125.71334, 128.11356,\n",
       "       134.54142, 119.89342, 126.15669, 122.3773 , 122.26207, 126.10857,\n",
       "       128.20922, 130.97632, 110.50511, 117.58262, 124.57974, 132.59918,\n",
       "       129.65094, 130.50076, 127.8574 , 121.40355, 130.05954, 126.52897,\n",
       "       119.74007, 122.53989, 128.85519, 128.69411, 117.38709, 131.9207 ,\n",
       "       128.00457, 125.00181, 130.42327, 132.46937, 128.92767, 126.97854,\n",
       "       124.56744, 107.34134, 113.28063, 127.81981, 128.83113, 115.31399,\n",
       "       118.17971, 125.53292, 113.48588, 115.7466 , 125.56404, 120.02812,\n",
       "       129.19501, 126.85164, 129.21755, 118.35809, 129.72351, 121.10556,\n",
       "       130.51704, 127.84003, 123.29935, 132.84828, 130.92788, 129.72513,\n",
       "       135.92377, 121.40935, 127.24132, 130.43271, 134.1376 , 109.46948,\n",
       "       126.41919, 129.64282, 114.48723, 124.34432, 121.63273, 123.53143,\n",
       "       116.14629, 123.1206 , 120.12036, 124.58383, 112.61885, 130.52454,\n",
       "       125.32655, 133.51951, 129.49963, 121.18202, 128.39103, 125.17311,\n",
       "       111.3361 , 125.6198 , 128.00149, 125.85882, 123.81295, 119.43468,\n",
       "       128.21739, 130.44429, 121.53312, 120.80336, 126.15363, 128.81981,\n",
       "       129.82726, 134.58709, 130.0076 , 112.2346 , 130.20762, 121.4116 ,\n",
       "       114.43994, 129.70656, 120.7886 , 121.10891, 128.58283, 120.73101,\n",
       "       131.62672, 128.04193, 130.27757, 132.7521 , 122.72625, 124.96839,\n",
       "       125.31316, 129.21845, 118.1075 , 121.42524, 130.92776, 125.95687,\n",
       "       132.89446, 128.39185, 130.88525, 126.87891, 122.10823, 118.2545 ,\n",
       "       118.98552, 122.22497, 126.7312 , 130.84171, 115.67067, 122.23948,\n",
       "       125.53396, 130.35997, 130.63915, 125.74931, 119.99515, 133.13332,\n",
       "       124.55931, 112.97746, 126.08189, 131.4569 , 124.17147, 121.06576,\n",
       "       127.92376, 135.32085, 132.71672, 129.85734, 135.18002, 130.68751,\n",
       "       131.20828, 126.51866, 119.39064, 128.87932, 129.13629, 130.76418,\n",
       "       131.70915, 125.27377, 128.65914, 126.39727, 129.23536, 124.12806,\n",
       "       130.13152, 131.22642, 132.35266, 129.45591, 126.83358, 129.94082,\n",
       "       127.02757, 130.92671, 137.18197, 115.05651, 124.76822, 118.86705,\n",
       "       120.40846, 129.91833, 133.19526, 121.7477 , 124.988  , 126.71407,\n",
       "       121.02292, 128.12767, 130.71639, 131.88989, 133.46228, 129.53536,\n",
       "       132.67682, 122.63309, 121.48438, 128.74957, 125.97864, 129.14988,\n",
       "       130.7404 , 116.54436, 125.37301, 127.23737, 130.70459, 125.49679,\n",
       "       131.99995, 127.64592, 123.77235, 129.34016, 126.09332, 127.80199,\n",
       "       136.08014, 131.07001, 133.00605, 108.61335, 117.66982, 130.76302,\n",
       "       124.90852, 116.20062, 133.76188, 122.79845, 125.2261 , 126.62356,\n",
       "       132.38875, 134.43052, 119.47767, 129.58708, 114.16715, 128.23716,\n",
       "       124.5686 , 128.25195, 111.67377, 123.72322, 126.25661, 124.36508,\n",
       "       131.29652, 133.43088, 130.86019, 121.94523, 132.3547 , 126.02054,\n",
       "       125.54294, 125.79601, 121.27398, 135.85328, 134.24688, 124.25406,\n",
       "       129.91202, 128.09662, 119.45545, 122.68951, 113.51026, 127.7084 ,\n",
       "       119.40662, 131.79366, 119.83997, 132.22802, 135.72319, 117.12117,\n",
       "       126.55379, 111.44433, 113.03324, 115.55398, 116.31824, 122.4202 ,\n",
       "       112.62693, 132.77352, 130.59783, 130.23331, 124.11095, 125.82911,\n",
       "       125.30954, 111.83182, 126.90315, 129.93968, 127.73371, 119.44927,\n",
       "       118.17544, 119.60919, 123.09919, 127.32589, 132.0405 , 114.27822,\n",
       "       125.97511, 124.53449, 130.24829, 127.80768, 119.05474, 129.75055,\n",
       "       121.12418, 118.74901, 132.14986, 130.89411, 132.4328 , 118.55126,\n",
       "       134.40375, 116.09592, 121.42284, 121.79016, 131.23228, 130.64833,\n",
       "       127.44927, 121.13178, 130.09916, 127.289  , 118.28853, 112.37038,\n",
       "       130.9526 , 134.37207, 125.35489, 116.7218 , 124.88053, 126.89179,\n",
       "       125.93133, 124.48461, 134.27852, 129.21614, 121.74773, 131.83231,\n",
       "       130.38104, 124.06708, 135.08338, 129.80288, 128.44626, 129.01369,\n",
       "       123.9767 , 122.92862, 115.30347, 125.85273, 126.36304, 129.36775,\n",
       "       128.48718, 129.38458, 131.12114, 125.81524, 128.90033, 110.38916,\n",
       "       131.23154, 125.50978, 127.09859, 124.25469, 125.54346, 130.0703 ,\n",
       "       128.33255, 127.04667, 134.66477, 130.76917, 126.14008, 117.7867 ,\n",
       "       114.45487, 134.45508, 125.49619, 122.68945, 124.0932 , 118.77835,\n",
       "       130.47088, 118.73629, 131.35895, 134.88814, 127.03923, 124.28726,\n",
       "       113.98722, 109.50948, 122.02312, 129.8648 , 125.39255, 128.92674,\n",
       "       124.93239, 129.28557, 126.79746, 133.71614, 110.72665, 124.73112,\n",
       "       124.80197, 112.78211, 124.71694, 134.07439, 128.43886, 125.26763,\n",
       "       116.19415, 122.48852, 127.43026, 128.16848, 128.39915, 122.88884,\n",
       "       132.2848 , 116.82249, 127.73415, 121.77781, 126.84181, 116.90017,\n",
       "       128.60123, 119.84653, 111.2718 , 126.86683, 115.41604, 126.65004,\n",
       "       130.4183 , 130.79662, 125.52282, 131.37042, 129.40026, 128.90446,\n",
       "       133.70523, 112.26355, 117.7767 , 129.43779, 128.68066, 127.91185,\n",
       "       119.71983, 113.86957, 123.51771, 122.73514, 119.59104, 118.98404,\n",
       "       119.22049, 127.59811, 126.4555 , 124.03553, 115.0075 , 116.06176,\n",
       "       130.3432 , 124.6362 , 127.22533, 119.62356, 133.19324, 117.46034,\n",
       "       121.21138, 128.79113, 122.56679, 134.5878 , 134.01549, 136.19055,\n",
       "       123.90752, 112.57219, 131.39739, 129.93636])"
      ]
     },
     "execution_count": 75,
     "metadata": {},
     "output_type": "execute_result"
    }
   ],
   "source": [
    "pickled_model.predict(X_test)"
   ]
  },
  {
   "cell_type": "code",
   "execution_count": 76,
   "id": "e3b10567",
   "metadata": {},
   "outputs": [],
   "source": [
    "## importance of pickle file"
   ]
  },
  {
   "cell_type": "code",
   "execution_count": 77,
   "id": "9339de4f",
   "metadata": {},
   "outputs": [
    {
     "data": {
      "text/html": [
       "<div>\n",
       "<style scoped>\n",
       "    .dataframe tbody tr th:only-of-type {\n",
       "        vertical-align: middle;\n",
       "    }\n",
       "\n",
       "    .dataframe tbody tr th {\n",
       "        vertical-align: top;\n",
       "    }\n",
       "\n",
       "    .dataframe thead th {\n",
       "        text-align: right;\n",
       "    }\n",
       "</style>\n",
       "<table border=\"1\" class=\"dataframe\">\n",
       "  <thead>\n",
       "    <tr style=\"text-align: right;\">\n",
       "      <th></th>\n",
       "      <th>Frequency</th>\n",
       "      <th>Angle of Attack</th>\n",
       "      <th>Chord Length</th>\n",
       "      <th>Free-stream Velocity</th>\n",
       "      <th>Suction side</th>\n",
       "    </tr>\n",
       "  </thead>\n",
       "  <tbody>\n",
       "    <tr>\n",
       "      <th>851</th>\n",
       "      <td>2000</td>\n",
       "      <td>11.2</td>\n",
       "      <td>0.0508</td>\n",
       "      <td>71.3</td>\n",
       "      <td>0.014072</td>\n",
       "    </tr>\n",
       "    <tr>\n",
       "      <th>816</th>\n",
       "      <td>3150</td>\n",
       "      <td>8.4</td>\n",
       "      <td>0.0508</td>\n",
       "      <td>55.5</td>\n",
       "      <td>0.005449</td>\n",
       "    </tr>\n",
       "    <tr>\n",
       "      <th>919</th>\n",
       "      <td>250</td>\n",
       "      <td>15.4</td>\n",
       "      <td>0.0508</td>\n",
       "      <td>31.7</td>\n",
       "      <td>0.028985</td>\n",
       "    </tr>\n",
       "    <tr>\n",
       "      <th>1042</th>\n",
       "      <td>8000</td>\n",
       "      <td>4.8</td>\n",
       "      <td>0.0254</td>\n",
       "      <td>39.6</td>\n",
       "      <td>0.000907</td>\n",
       "    </tr>\n",
       "    <tr>\n",
       "      <th>581</th>\n",
       "      <td>6300</td>\n",
       "      <td>5.4</td>\n",
       "      <td>0.1524</td>\n",
       "      <td>39.6</td>\n",
       "      <td>0.004850</td>\n",
       "    </tr>\n",
       "    <tr>\n",
       "      <th>...</th>\n",
       "      <td>...</td>\n",
       "      <td>...</td>\n",
       "      <td>...</td>\n",
       "      <td>...</td>\n",
       "      <td>...</td>\n",
       "    </tr>\n",
       "    <tr>\n",
       "      <th>393</th>\n",
       "      <td>400</td>\n",
       "      <td>7.3</td>\n",
       "      <td>0.2286</td>\n",
       "      <td>71.3</td>\n",
       "      <td>0.010440</td>\n",
       "    </tr>\n",
       "    <tr>\n",
       "      <th>1479</th>\n",
       "      <td>800</td>\n",
       "      <td>15.6</td>\n",
       "      <td>0.1016</td>\n",
       "      <td>71.3</td>\n",
       "      <td>0.043726</td>\n",
       "    </tr>\n",
       "    <tr>\n",
       "      <th>626</th>\n",
       "      <td>6300</td>\n",
       "      <td>7.2</td>\n",
       "      <td>0.1524</td>\n",
       "      <td>39.6</td>\n",
       "      <td>0.009092</td>\n",
       "    </tr>\n",
       "    <tr>\n",
       "      <th>1037</th>\n",
       "      <td>2500</td>\n",
       "      <td>4.8</td>\n",
       "      <td>0.0254</td>\n",
       "      <td>39.6</td>\n",
       "      <td>0.000907</td>\n",
       "    </tr>\n",
       "    <tr>\n",
       "      <th>423</th>\n",
       "      <td>250</td>\n",
       "      <td>7.3</td>\n",
       "      <td>0.2286</td>\n",
       "      <td>39.6</td>\n",
       "      <td>0.012348</td>\n",
       "    </tr>\n",
       "  </tbody>\n",
       "</table>\n",
       "<p>496 rows × 5 columns</p>\n",
       "</div>"
      ],
      "text/plain": [
       "      Frequency  Angle of Attack  Chord Length  Free-stream Velocity  \\\n",
       "851        2000             11.2        0.0508                  71.3   \n",
       "816        3150              8.4        0.0508                  55.5   \n",
       "919         250             15.4        0.0508                  31.7   \n",
       "1042       8000              4.8        0.0254                  39.6   \n",
       "581        6300              5.4        0.1524                  39.6   \n",
       "...         ...              ...           ...                   ...   \n",
       "393         400              7.3        0.2286                  71.3   \n",
       "1479        800             15.6        0.1016                  71.3   \n",
       "626        6300              7.2        0.1524                  39.6   \n",
       "1037       2500              4.8        0.0254                  39.6   \n",
       "423         250              7.3        0.2286                  39.6   \n",
       "\n",
       "      Suction side  \n",
       "851       0.014072  \n",
       "816       0.005449  \n",
       "919       0.028985  \n",
       "1042      0.000907  \n",
       "581       0.004850  \n",
       "...            ...  \n",
       "393       0.010440  \n",
       "1479      0.043726  \n",
       "626       0.009092  \n",
       "1037      0.000907  \n",
       "423       0.012348  \n",
       "\n",
       "[496 rows x 5 columns]"
      ]
     },
     "execution_count": 77,
     "metadata": {},
     "output_type": "execute_result"
    }
   ],
   "source": [
    "# X_test is a huge dataset and we are trying to predict for entire records\n",
    "X_test"
   ]
  },
  {
   "cell_type": "code",
   "execution_count": 78,
   "id": "d8cad589",
   "metadata": {},
   "outputs": [],
   "source": [
    "## we are giving X_test in the form of dataFrame\n",
    "## we can also give a huge dataset too\n",
    "## in most scenarios, companies will give one record at a time and find out the prediction\n"
   ]
  },
  {
   "cell_type": "code",
   "execution_count": 80,
   "id": "7ac6fca0",
   "metadata": {},
   "outputs": [
    {
     "data": {
      "text/plain": [
       "pandas.core.frame.DataFrame"
      ]
     },
     "execution_count": 80,
     "metadata": {},
     "output_type": "execute_result"
    }
   ],
   "source": [
    "type(X_test)"
   ]
  },
  {
   "cell_type": "code",
   "execution_count": 81,
   "id": "4419d0b6",
   "metadata": {},
   "outputs": [
    {
     "data": {
      "text/html": [
       "<div>\n",
       "<style scoped>\n",
       "    .dataframe tbody tr th:only-of-type {\n",
       "        vertical-align: middle;\n",
       "    }\n",
       "\n",
       "    .dataframe tbody tr th {\n",
       "        vertical-align: top;\n",
       "    }\n",
       "\n",
       "    .dataframe thead th {\n",
       "        text-align: right;\n",
       "    }\n",
       "</style>\n",
       "<table border=\"1\" class=\"dataframe\">\n",
       "  <thead>\n",
       "    <tr style=\"text-align: right;\">\n",
       "      <th></th>\n",
       "      <th>Frequency</th>\n",
       "      <th>Angle of Attack</th>\n",
       "      <th>Chord Length</th>\n",
       "      <th>Free-stream Velocity</th>\n",
       "      <th>Suction side</th>\n",
       "    </tr>\n",
       "  </thead>\n",
       "  <tbody>\n",
       "    <tr>\n",
       "      <th>851</th>\n",
       "      <td>2000.0</td>\n",
       "      <td>11.2</td>\n",
       "      <td>0.0508</td>\n",
       "      <td>71.3</td>\n",
       "      <td>0.014072</td>\n",
       "    </tr>\n",
       "  </tbody>\n",
       "</table>\n",
       "</div>"
      ],
      "text/plain": [
       "     Frequency  Angle of Attack  Chord Length  Free-stream Velocity  \\\n",
       "851     2000.0             11.2        0.0508                  71.3   \n",
       "\n",
       "     Suction side  \n",
       "851      0.014072  "
      ]
     },
     "execution_count": 81,
     "metadata": {},
     "output_type": "execute_result"
    }
   ],
   "source": [
    "pd.DataFrame(X_test.iloc[0,:]).T"
   ]
  },
  {
   "cell_type": "code",
   "execution_count": 82,
   "id": "c936d952",
   "metadata": {},
   "outputs": [
    {
     "data": {
      "text/plain": [
       "array([133.21552])"
      ]
     },
     "execution_count": 82,
     "metadata": {},
     "output_type": "execute_result"
    }
   ],
   "source": [
    "pickled_model.predict(pd.DataFrame(X_test.iloc[0,:]).T)"
   ]
  },
  {
   "cell_type": "code",
   "execution_count": 83,
   "id": "493adfc4",
   "metadata": {},
   "outputs": [
    {
     "data": {
      "text/plain": [
       "Frequency               400.000000\n",
       "Angle of Attack           0.000000\n",
       "Chord Length              0.304800\n",
       "Free-stream Velocity     31.700000\n",
       "Suction side              0.003313\n",
       "Name: 51, dtype: float64"
      ]
     },
     "execution_count": 83,
     "metadata": {},
     "output_type": "execute_result"
    }
   ],
   "source": [
    "X_test.loc[51]"
   ]
  },
  {
   "cell_type": "code",
   "execution_count": 84,
   "id": "dd98bc3c",
   "metadata": {},
   "outputs": [
    {
     "data": {
      "text/plain": [
       "{'Frequency': 9,\n",
       " 'Angle of Attack': 8,\n",
       " 'Chord Length': 10,\n",
       " 'Free-stream Velocity': 1,\n",
       " 'Suction side': 7}"
      ]
     },
     "execution_count": 84,
     "metadata": {},
     "output_type": "execute_result"
    }
   ],
   "source": [
    "dict_test={\n",
    "    \"Frequency\":9,\n",
    "    \"Angle of Attack\":8,\n",
    "    \"Chord Length\":10,\n",
    "    \"Free-stream Velocity\":1,\n",
    "    \"Suction side\":7\n",
    "}\n",
    "\n",
    "dict_test"
   ]
  },
  {
   "cell_type": "code",
   "execution_count": 85,
   "id": "4a1004f4",
   "metadata": {},
   "outputs": [
    {
     "data": {
      "text/plain": [
       "dict_keys(['Frequency', 'Angle of Attack', 'Chord Length', 'Free-stream Velocity', 'Suction side'])"
      ]
     },
     "execution_count": 85,
     "metadata": {},
     "output_type": "execute_result"
    }
   ],
   "source": [
    "dict_test.keys()"
   ]
  },
  {
   "cell_type": "code",
   "execution_count": 86,
   "id": "e9082937",
   "metadata": {},
   "outputs": [
    {
     "data": {
      "text/plain": [
       "dict_values([9, 8, 10, 1, 7])"
      ]
     },
     "execution_count": 86,
     "metadata": {},
     "output_type": "execute_result"
    }
   ],
   "source": [
    "dict_test.values()"
   ]
  },
  {
   "cell_type": "code",
   "execution_count": 87,
   "id": "48819add",
   "metadata": {},
   "outputs": [
    {
     "data": {
      "text/plain": [
       "dict_values"
      ]
     },
     "execution_count": 87,
     "metadata": {},
     "output_type": "execute_result"
    }
   ],
   "source": [
    "type(dict_test.values())\n",
    "#type is dict_values, not list"
   ]
  },
  {
   "cell_type": "code",
   "execution_count": 88,
   "id": "0728762c",
   "metadata": {},
   "outputs": [
    {
     "data": {
      "text/plain": [
       "[9, 8, 10, 1, 7]"
      ]
     },
     "execution_count": 88,
     "metadata": {},
     "output_type": "execute_result"
    }
   ],
   "source": [
    "list(dict_test.values())"
   ]
  },
  {
   "cell_type": "code",
   "execution_count": 89,
   "id": "8c93e131",
   "metadata": {},
   "outputs": [
    {
     "name": "stderr",
     "output_type": "stream",
     "text": [
      "C:\\Users\\HP\\anaconda3\\lib\\site-packages\\sklearn\\base.py:450: UserWarning: X does not have valid feature names, but RandomForestRegressor was fitted with feature names\n",
      "  warnings.warn(\n"
     ]
    },
    {
     "ename": "ValueError",
     "evalue": "Expected 2D array, got 1D array instead:\narray=[ 9.  8. 10.  1.  7.].\nReshape your data either using array.reshape(-1, 1) if your data has a single feature or array.reshape(1, -1) if it contains a single sample.",
     "output_type": "error",
     "traceback": [
      "\u001b[1;31m---------------------------------------------------------------------------\u001b[0m",
      "\u001b[1;31mValueError\u001b[0m                                Traceback (most recent call last)",
      "\u001b[1;32m~\\AppData\\Local\\Temp\\ipykernel_15868\\3356865940.py\u001b[0m in \u001b[0;36m<module>\u001b[1;34m\u001b[0m\n\u001b[1;32m----> 1\u001b[1;33m \u001b[0mpickled_model\u001b[0m\u001b[1;33m.\u001b[0m\u001b[0mpredict\u001b[0m\u001b[1;33m(\u001b[0m\u001b[0mlist\u001b[0m\u001b[1;33m(\u001b[0m\u001b[0mdict_test\u001b[0m\u001b[1;33m.\u001b[0m\u001b[0mvalues\u001b[0m\u001b[1;33m(\u001b[0m\u001b[1;33m)\u001b[0m\u001b[1;33m)\u001b[0m\u001b[1;33m)\u001b[0m\u001b[1;33m\u001b[0m\u001b[1;33m\u001b[0m\u001b[0m\n\u001b[0m",
      "\u001b[1;32m~\\anaconda3\\lib\\site-packages\\sklearn\\ensemble\\_forest.py\u001b[0m in \u001b[0;36mpredict\u001b[1;34m(self, X)\u001b[0m\n\u001b[0;32m    969\u001b[0m         \u001b[0mcheck_is_fitted\u001b[0m\u001b[1;33m(\u001b[0m\u001b[0mself\u001b[0m\u001b[1;33m)\u001b[0m\u001b[1;33m\u001b[0m\u001b[1;33m\u001b[0m\u001b[0m\n\u001b[0;32m    970\u001b[0m         \u001b[1;31m# Check data\u001b[0m\u001b[1;33m\u001b[0m\u001b[1;33m\u001b[0m\u001b[0m\n\u001b[1;32m--> 971\u001b[1;33m         \u001b[0mX\u001b[0m \u001b[1;33m=\u001b[0m \u001b[0mself\u001b[0m\u001b[1;33m.\u001b[0m\u001b[0m_validate_X_predict\u001b[0m\u001b[1;33m(\u001b[0m\u001b[0mX\u001b[0m\u001b[1;33m)\u001b[0m\u001b[1;33m\u001b[0m\u001b[1;33m\u001b[0m\u001b[0m\n\u001b[0m\u001b[0;32m    972\u001b[0m \u001b[1;33m\u001b[0m\u001b[0m\n\u001b[0;32m    973\u001b[0m         \u001b[1;31m# Assign chunk of trees to jobs\u001b[0m\u001b[1;33m\u001b[0m\u001b[1;33m\u001b[0m\u001b[0m\n",
      "\u001b[1;32m~\\anaconda3\\lib\\site-packages\\sklearn\\ensemble\\_forest.py\u001b[0m in \u001b[0;36m_validate_X_predict\u001b[1;34m(self, X)\u001b[0m\n\u001b[0;32m    577\u001b[0m         Validate X whenever one tries to predict, apply, predict_proba.\"\"\"\n\u001b[0;32m    578\u001b[0m         \u001b[0mcheck_is_fitted\u001b[0m\u001b[1;33m(\u001b[0m\u001b[0mself\u001b[0m\u001b[1;33m)\u001b[0m\u001b[1;33m\u001b[0m\u001b[1;33m\u001b[0m\u001b[0m\n\u001b[1;32m--> 579\u001b[1;33m         \u001b[0mX\u001b[0m \u001b[1;33m=\u001b[0m \u001b[0mself\u001b[0m\u001b[1;33m.\u001b[0m\u001b[0m_validate_data\u001b[0m\u001b[1;33m(\u001b[0m\u001b[0mX\u001b[0m\u001b[1;33m,\u001b[0m \u001b[0mdtype\u001b[0m\u001b[1;33m=\u001b[0m\u001b[0mDTYPE\u001b[0m\u001b[1;33m,\u001b[0m \u001b[0maccept_sparse\u001b[0m\u001b[1;33m=\u001b[0m\u001b[1;34m\"csr\"\u001b[0m\u001b[1;33m,\u001b[0m \u001b[0mreset\u001b[0m\u001b[1;33m=\u001b[0m\u001b[1;32mFalse\u001b[0m\u001b[1;33m)\u001b[0m\u001b[1;33m\u001b[0m\u001b[1;33m\u001b[0m\u001b[0m\n\u001b[0m\u001b[0;32m    580\u001b[0m         \u001b[1;32mif\u001b[0m \u001b[0missparse\u001b[0m\u001b[1;33m(\u001b[0m\u001b[0mX\u001b[0m\u001b[1;33m)\u001b[0m \u001b[1;32mand\u001b[0m \u001b[1;33m(\u001b[0m\u001b[0mX\u001b[0m\u001b[1;33m.\u001b[0m\u001b[0mindices\u001b[0m\u001b[1;33m.\u001b[0m\u001b[0mdtype\u001b[0m \u001b[1;33m!=\u001b[0m \u001b[0mnp\u001b[0m\u001b[1;33m.\u001b[0m\u001b[0mintc\u001b[0m \u001b[1;32mor\u001b[0m \u001b[0mX\u001b[0m\u001b[1;33m.\u001b[0m\u001b[0mindptr\u001b[0m\u001b[1;33m.\u001b[0m\u001b[0mdtype\u001b[0m \u001b[1;33m!=\u001b[0m \u001b[0mnp\u001b[0m\u001b[1;33m.\u001b[0m\u001b[0mintc\u001b[0m\u001b[1;33m)\u001b[0m\u001b[1;33m:\u001b[0m\u001b[1;33m\u001b[0m\u001b[1;33m\u001b[0m\u001b[0m\n\u001b[0;32m    581\u001b[0m             \u001b[1;32mraise\u001b[0m \u001b[0mValueError\u001b[0m\u001b[1;33m(\u001b[0m\u001b[1;34m\"No support for np.int64 index based sparse matrices\"\u001b[0m\u001b[1;33m)\u001b[0m\u001b[1;33m\u001b[0m\u001b[1;33m\u001b[0m\u001b[0m\n",
      "\u001b[1;32m~\\anaconda3\\lib\\site-packages\\sklearn\\base.py\u001b[0m in \u001b[0;36m_validate_data\u001b[1;34m(self, X, y, reset, validate_separately, **check_params)\u001b[0m\n\u001b[0;32m    564\u001b[0m             \u001b[1;32mraise\u001b[0m \u001b[0mValueError\u001b[0m\u001b[1;33m(\u001b[0m\u001b[1;34m\"Validation should be done on X, y or both.\"\u001b[0m\u001b[1;33m)\u001b[0m\u001b[1;33m\u001b[0m\u001b[1;33m\u001b[0m\u001b[0m\n\u001b[0;32m    565\u001b[0m         \u001b[1;32melif\u001b[0m \u001b[1;32mnot\u001b[0m \u001b[0mno_val_X\u001b[0m \u001b[1;32mand\u001b[0m \u001b[0mno_val_y\u001b[0m\u001b[1;33m:\u001b[0m\u001b[1;33m\u001b[0m\u001b[1;33m\u001b[0m\u001b[0m\n\u001b[1;32m--> 566\u001b[1;33m             \u001b[0mX\u001b[0m \u001b[1;33m=\u001b[0m \u001b[0mcheck_array\u001b[0m\u001b[1;33m(\u001b[0m\u001b[0mX\u001b[0m\u001b[1;33m,\u001b[0m \u001b[1;33m**\u001b[0m\u001b[0mcheck_params\u001b[0m\u001b[1;33m)\u001b[0m\u001b[1;33m\u001b[0m\u001b[1;33m\u001b[0m\u001b[0m\n\u001b[0m\u001b[0;32m    567\u001b[0m             \u001b[0mout\u001b[0m \u001b[1;33m=\u001b[0m \u001b[0mX\u001b[0m\u001b[1;33m\u001b[0m\u001b[1;33m\u001b[0m\u001b[0m\n\u001b[0;32m    568\u001b[0m         \u001b[1;32melif\u001b[0m \u001b[0mno_val_X\u001b[0m \u001b[1;32mand\u001b[0m \u001b[1;32mnot\u001b[0m \u001b[0mno_val_y\u001b[0m\u001b[1;33m:\u001b[0m\u001b[1;33m\u001b[0m\u001b[1;33m\u001b[0m\u001b[0m\n",
      "\u001b[1;32m~\\anaconda3\\lib\\site-packages\\sklearn\\utils\\validation.py\u001b[0m in \u001b[0;36mcheck_array\u001b[1;34m(array, accept_sparse, accept_large_sparse, dtype, order, copy, force_all_finite, ensure_2d, allow_nd, ensure_min_samples, ensure_min_features, estimator)\u001b[0m\n\u001b[0;32m    767\u001b[0m             \u001b[1;31m# If input is 1D raise error\u001b[0m\u001b[1;33m\u001b[0m\u001b[1;33m\u001b[0m\u001b[0m\n\u001b[0;32m    768\u001b[0m             \u001b[1;32mif\u001b[0m \u001b[0marray\u001b[0m\u001b[1;33m.\u001b[0m\u001b[0mndim\u001b[0m \u001b[1;33m==\u001b[0m \u001b[1;36m1\u001b[0m\u001b[1;33m:\u001b[0m\u001b[1;33m\u001b[0m\u001b[1;33m\u001b[0m\u001b[0m\n\u001b[1;32m--> 769\u001b[1;33m                 raise ValueError(\n\u001b[0m\u001b[0;32m    770\u001b[0m                     \u001b[1;34m\"Expected 2D array, got 1D array instead:\\narray={}.\\n\"\u001b[0m\u001b[1;33m\u001b[0m\u001b[1;33m\u001b[0m\u001b[0m\n\u001b[0;32m    771\u001b[0m                     \u001b[1;34m\"Reshape your data either using array.reshape(-1, 1) if \"\u001b[0m\u001b[1;33m\u001b[0m\u001b[1;33m\u001b[0m\u001b[0m\n",
      "\u001b[1;31mValueError\u001b[0m: Expected 2D array, got 1D array instead:\narray=[ 9.  8. 10.  1.  7.].\nReshape your data either using array.reshape(-1, 1) if your data has a single feature or array.reshape(1, -1) if it contains a single sample."
     ]
    }
   ],
   "source": [
    "pickled_model.predict(list(dict_test.values()))"
   ]
  },
  {
   "cell_type": "code",
   "execution_count": null,
   "id": "9615a70b",
   "metadata": {},
   "outputs": [],
   "source": [
    "## we have to convert to array and reshape it\n",
    "## how to convert to 2d array?\n",
    "list(list(dict_test.values()))"
   ]
  },
  {
   "cell_type": "markdown",
   "id": "97976c37",
   "metadata": {},
   "source": [
    "## Prediction for one single value"
   ]
  },
  {
   "cell_type": "code",
   "execution_count": 90,
   "id": "d9cb92fb",
   "metadata": {},
   "outputs": [
    {
     "name": "stderr",
     "output_type": "stream",
     "text": [
      "C:\\Users\\HP\\anaconda3\\lib\\site-packages\\sklearn\\base.py:450: UserWarning: X does not have valid feature names, but RandomForestRegressor was fitted with feature names\n",
      "  warnings.warn(\n"
     ]
    },
    {
     "data": {
      "text/plain": [
       "array([119.49992])"
      ]
     },
     "execution_count": 90,
     "metadata": {},
     "output_type": "execute_result"
    }
   ],
   "source": [
    "pickled_model.predict([[9, 8, 10, 1, 7]])\n",
    "# it is working"
   ]
  },
  {
   "cell_type": "code",
   "execution_count": 91,
   "id": "2469c591",
   "metadata": {},
   "outputs": [
    {
     "name": "stderr",
     "output_type": "stream",
     "text": [
      "C:\\Users\\HP\\anaconda3\\lib\\site-packages\\sklearn\\base.py:450: UserWarning: X does not have valid feature names, but RandomForestRegressor was fitted with feature names\n",
      "  warnings.warn(\n"
     ]
    },
    {
     "data": {
      "text/plain": [
       "119.49992000000002"
      ]
     },
     "execution_count": 91,
     "metadata": {},
     "output_type": "execute_result"
    }
   ],
   "source": [
    "output=pickled_model.predict([[9, 8, 10, 1, 7]])[0]\n",
    "# it is working"
   ]
  },
  {
   "cell_type": "code",
   "execution_count": 92,
   "id": "24e2ecc4",
   "metadata": {},
   "outputs": [
    {
     "data": {
      "text/plain": [
       "[[9, 8, 10, 1, 7]]"
      ]
     },
     "execution_count": 92,
     "metadata": {},
     "output_type": "execute_result"
    }
   ],
   "source": [
    "[list(dict_test.values())]"
   ]
  },
  {
   "cell_type": "code",
   "execution_count": 93,
   "id": "6cd76ae8",
   "metadata": {},
   "outputs": [],
   "source": [
    "## testing batch inputs\n",
    "\n",
    "batch_data=[{\n",
    "        \"Frequency\":400,\n",
    "        \"Angle of Attack\":0.0,\n",
    "        \"Chord Length\":0.3048,\n",
    "        \"Free-stream Velocity\":31.7,\n",
    "        \"Suction side\":0.003313\n",
    "    },\n",
    "     {\n",
    "        \"Frequency\":1250,\n",
    "        \"Angle of Attack\":12.3,\n",
    "        \"Chord Length\":0.1016,\n",
    "        \"Free-stream Velocity\":31.7,\n",
    "        \"Suction side\":0.041876\n",
    "    }\n",
    " ]\n",
    "#         400\t0.0\t0.3048\t31.7\t0.003313\n",
    "# 1250\t12.3\t0.1016\t31.7\t0.041876"
   ]
  },
  {
   "cell_type": "code",
   "execution_count": 94,
   "id": "0ef77fc5",
   "metadata": {},
   "outputs": [
    {
     "data": {
      "text/plain": [
       "[{'Frequency': 400,\n",
       "  'Angle of Attack': 0.0,\n",
       "  'Chord Length': 0.3048,\n",
       "  'Free-stream Velocity': 31.7,\n",
       "  'Suction side': 0.003313},\n",
       " {'Frequency': 1250,\n",
       "  'Angle of Attack': 12.3,\n",
       "  'Chord Length': 0.1016,\n",
       "  'Free-stream Velocity': 31.7,\n",
       "  'Suction side': 0.041876}]"
      ]
     },
     "execution_count": 94,
     "metadata": {},
     "output_type": "execute_result"
    }
   ],
   "source": [
    "batch_data"
   ]
  },
  {
   "cell_type": "code",
   "execution_count": 95,
   "id": "32227c29",
   "metadata": {},
   "outputs": [
    {
     "data": {
      "text/plain": [
       "[[400, 0.0, 0.3048, 31.7, 0.003313], [1250, 12.3, 0.1016, 31.7, 0.041876]]"
      ]
     },
     "execution_count": 95,
     "metadata": {},
     "output_type": "execute_result"
    }
   ],
   "source": [
    "batch_data_list=[ list(i.values()) for i in batch_data ]\n",
    "batch_data_list"
   ]
  },
  {
   "cell_type": "code",
   "execution_count": 98,
   "id": "d3f12ce0",
   "metadata": {
    "scrolled": false
   },
   "outputs": [
    {
     "name": "stderr",
     "output_type": "stream",
     "text": [
      "C:\\Users\\HP\\anaconda3\\lib\\site-packages\\sklearn\\base.py:450: UserWarning: X does not have valid feature names, but RandomForestRegressor was fitted with feature names\n",
      "  warnings.warn(\n"
     ]
    },
    {
     "data": {
      "text/plain": [
       "array([124.25406, 118.75044])"
      ]
     },
     "execution_count": 98,
     "metadata": {},
     "output_type": "execute_result"
    }
   ],
   "source": [
    "output=pickled_model.predict(batch_data_list)\n",
    "output"
   ]
  }
 ],
 "metadata": {
  "kernelspec": {
   "display_name": "Python 3 (ipykernel)",
   "language": "python",
   "name": "python3"
  },
  "language_info": {
   "codemirror_mode": {
    "name": "ipython",
    "version": 3
   },
   "file_extension": ".py",
   "mimetype": "text/x-python",
   "name": "python",
   "nbconvert_exporter": "python",
   "pygments_lexer": "ipython3",
   "version": "3.9.13"
  }
 },
 "nbformat": 4,
 "nbformat_minor": 5
}
